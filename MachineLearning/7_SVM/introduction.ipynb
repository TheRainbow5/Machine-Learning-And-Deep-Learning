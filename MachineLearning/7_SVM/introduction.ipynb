{
 "cells": [
  {
   "cell_type": "markdown",
   "metadata": {},
   "source": [
    "![在这里插入图片描述](https://img-blog.csdnimg.cn/bfbc639e731348258968dddce2da09bc.png?x-oss-process=image/watermark,type_d3F5LXplbmhlaQ,shadow_50,text_Q1NETiBA5ZWl6YO95Lya5LiA54K555qE5pys56eR5YOn,size_17,color_FFFFFF,t_70,g_se,x_16)\n",
    "# 支持向量机(SVM)\n",
    "* 支持向量机（SVM）介绍\n",
    "* 支持向量机（SVM）是怎么工作的\n",
    "* 处理异常值\n",
    "* PEGASOS法\n",
    "* 非线性回归分类\n",
    "* 支持向量机（SVM）的优劣\n",
    "* 可视化支持向量机（SVM）\n",
    "* 支持向量机（SVM）的应用\n"
   ]
  },
  {
   "cell_type": "markdown",
   "metadata": {},
   "source": [
    "## 1、支持向量机（SVM）介绍\n",
    "\n",
    "支持向量机（SVM）是功能强大的分类器，可同时处理线性和非线性数据。如果是n维空间，则超平面的维数将为（n-1）。\n",
    "![](https://img-blog.csdnimg.cn/b7339a9fcab94f24995b35479812ebe0.png?x-oss-process=image/watermark,type_d3F5LXplbmhlaQ,shadow_50,text_Q1NETiBA5ZWl6YO95Lya5LiA54K555qE5pys56eR5YOn,size_20,color_FFFFFF,t_70,g_se,x_16)\n",
    "支持向量机（SVM）的目标是找到一个最佳的超平面来划分我们的数据，从而使一个空间最近点到超平面的距离最大。\n",
    "\n",
    "![](https://img-blog.csdnimg.cn/d059fe5cba5b4a549fdae826c04bc384.png?x-oss-process=image/watermark,type_d3F5LXplbmhlaQ,shadow_50,text_Q1NETiBA5ZWl6YO95Lya5LiA54K555qE5pys56eR5YOn,size_6,color_FFFFFF,t_70,g_se,x_16)\n",
    "\n",
    "（上图注释：最优超平面：Optimal hyperpline；最大间隔：Maximum margin）\n",
    "其中最靠近超平面的**红点**和**蓝点**就是支持向量。\n",
    "\n",
    "![](https://img-blog.csdnimg.cn/473933e6e0ca4860b20f40aa659e132c.png?x-oss-process=image/watermark,type_d3F5LXplbmhlaQ,shadow_50,text_Q1NETiBA5ZWl6YO95Lya5LiA54K555qE5pys56eR5YOn,size_20,color_FFFFFF,t_70,g_se,x_16)\n",
    "简单的说，考虑一条道路，他将左右两侧的汽车、建筑物、行人分开，并尽可能使车道最宽。那么，那些真正靠近道路的汽车、建筑物就是支持向量。"
   ]
  },
  {
   "cell_type": "markdown",
   "metadata": {},
   "source": [
    "## 2、支持向量机（SVM）是如何工作的？\n",
    "\n",
    "### 2.1目标：找到最佳的超平面\n",
    "![](https://img-blog.csdnimg.cn/3e199bf03b3346c68c696cb25a988e67.png?x-oss-process=image/watermark,type_d3F5LXplbmhlaQ,shadow_50,text_Q1NETiBA5ZWl6YO95Lya5LiA54K555qE5pys56eR5YOn,size_17,color_FFFFFF,t_70,g_se,x_16)\n",
    "\n",
    "（上图注释：我们把数据分为两类（正类positive class和负类negative class），x为数据，y为数据的标签，和类别对应；由图中看很明显啦，图片是正的，反之是负的。由于我们需要找到所谓的“最近距离”的支持向量，那么肯定点越多越好了，因为这样提供距离的点越多，就越准确）\n",
    "\n",
    "![](https://img-blog.csdnimg.cn/de376c438a8a4df28d947de4aede045b.png?x-oss-process=image/watermark,type_d3F5LXplbmhlaQ,shadow_50,text_Q1NETiBA5ZWl6YO95Lya5LiA54K555qE5pys56eR5YOn,size_12,color_FFFFFF,t_70,g_se,x_16)\n",
    "\n",
    "### 2.2计算与支持向量的距离\n",
    "![](https://img-blog.csdnimg.cn/19f409dbd02f4566b093d583647d3b42.png)\n",
    "\n",
    "我们想要一个超平面，它可以高效地对点进行分类，为了能够精确地执行这个操作，我们稍微变一下我们的目标\n",
    "* 改变目标\n",
    "\n"
   ]
  },
  {
   "cell_type": "markdown",
   "metadata": {},
   "source": []
  }
 ],
 "metadata": {
  "interpreter": {
   "hash": "8f03fb8992b0e5aa6a67cd56eb653950a01f214acb97d94a2178dd1aa47d1bcf"
  },
  "kernelspec": {
   "display_name": "Python 3.7.6 64-bit ('base': conda)",
   "language": "python",
   "name": "python3"
  },
  "language_info": {
   "codemirror_mode": {
    "name": "ipython",
    "version": 3
   },
   "file_extension": ".py",
   "mimetype": "text/x-python",
   "name": "python",
   "nbconvert_exporter": "python",
   "pygments_lexer": "ipython3",
   "version": "3.7.6"
  },
  "orig_nbformat": 4
 },
 "nbformat": 4,
 "nbformat_minor": 2
}
