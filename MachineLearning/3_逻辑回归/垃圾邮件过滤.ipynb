{
 "cells": [
  {
   "cell_type": "code",
   "execution_count": 1,
   "metadata": {},
   "outputs": [],
   "source": [
    "#import csv\n",
    "#import re\n",
    "#with open(r\"D:\\program_Lab_Report\\machine_learning\\100day\\code\\3_逻辑回归\\SMSSpamCollection.csv\",encoding=\"utf-8\") as f:\n",
    "#    with open(r\"S_MSSpamCollection.csv\",mode=\"w\",encoding=\"utf-8\",newline=\"\")as f1:\n",
    "#        pen=csv.writer(f1)\n",
    "#        data=f.readlines()\n",
    "#        for item in data:\n",
    "#            item=item.split(\"\\t\")\n",
    "#            item[1]=item[1].replace(\"\\n\",\"\")\n",
    "#            pen.writerow(item)"
   ]
  },
  {
   "cell_type": "markdown",
   "metadata": {},
   "source": [
    "# 数据分析"
   ]
  },
  {
   "cell_type": "code",
   "execution_count": 2,
   "metadata": {},
   "outputs": [
    {
     "data": {
      "text/html": [
       "<div>\n",
       "<style scoped>\n",
       "    .dataframe tbody tr th:only-of-type {\n",
       "        vertical-align: middle;\n",
       "    }\n",
       "\n",
       "    .dataframe tbody tr th {\n",
       "        vertical-align: top;\n",
       "    }\n",
       "\n",
       "    .dataframe thead th {\n",
       "        text-align: right;\n",
       "    }\n",
       "</style>\n",
       "<table border=\"1\" class=\"dataframe\">\n",
       "  <thead>\n",
       "    <tr style=\"text-align: right;\">\n",
       "      <th></th>\n",
       "      <th>label</th>\n",
       "      <th>message</th>\n",
       "      <th>label_num</th>\n",
       "      <th>message_len</th>\n",
       "    </tr>\n",
       "  </thead>\n",
       "  <tbody>\n",
       "    <tr>\n",
       "      <th>0</th>\n",
       "      <td>ham</td>\n",
       "      <td>Ok lar... Joking wif u oni...</td>\n",
       "      <td>0</td>\n",
       "      <td>29</td>\n",
       "    </tr>\n",
       "    <tr>\n",
       "      <th>1</th>\n",
       "      <td>spam</td>\n",
       "      <td>Free entry in 2 a wkly comp to win FA Cup fina...</td>\n",
       "      <td>1</td>\n",
       "      <td>155</td>\n",
       "    </tr>\n",
       "    <tr>\n",
       "      <th>2</th>\n",
       "      <td>ham</td>\n",
       "      <td>U dun say so early hor... U c already then say...</td>\n",
       "      <td>0</td>\n",
       "      <td>49</td>\n",
       "    </tr>\n",
       "    <tr>\n",
       "      <th>3</th>\n",
       "      <td>ham</td>\n",
       "      <td>Nah I don't think he goes to usf, he lives aro...</td>\n",
       "      <td>0</td>\n",
       "      <td>61</td>\n",
       "    </tr>\n",
       "    <tr>\n",
       "      <th>4</th>\n",
       "      <td>spam</td>\n",
       "      <td>FreeMsg Hey there darling it's been 3 week's n...</td>\n",
       "      <td>1</td>\n",
       "      <td>147</td>\n",
       "    </tr>\n",
       "  </tbody>\n",
       "</table>\n",
       "</div>"
      ],
      "text/plain": [
       "  label                                            message  label_num  \\\n",
       "0   ham                      Ok lar... Joking wif u oni...          0   \n",
       "1  spam  Free entry in 2 a wkly comp to win FA Cup fina...          1   \n",
       "2   ham  U dun say so early hor... U c already then say...          0   \n",
       "3   ham  Nah I don't think he goes to usf, he lives aro...          0   \n",
       "4  spam  FreeMsg Hey there darling it's been 3 week's n...          1   \n",
       "\n",
       "   message_len  \n",
       "0           29  \n",
       "1          155  \n",
       "2           49  \n",
       "3           61  \n",
       "4          147  "
      ]
     },
     "execution_count": 2,
     "metadata": {},
     "output_type": "execute_result"
    }
   ],
   "source": [
    "import numpy as np \n",
    "import pandas as pd\n",
    "#导入数据\n",
    "df=pd.read_csv(r\"D:\\program_Lab_Report\\machine_learning\\100day\\code\\3_逻辑回归\\S_MSSpamCollection.csv\")\n",
    "df.columns=[\"label\",\"message\"]\n",
    "#查看标签列的基础信息\n",
    "df.groupby('label').describe()  \n",
    "#标签数值化\n",
    "df['label_num']=df.label.map({'ham':0,'spam':1})\n",
    "#信息数值化\n",
    "df[\"message_len\"]=df.message.map(len)\n",
    "df.head()"
   ]
  },
  {
   "cell_type": "markdown",
   "metadata": {},
   "source": [
    "# 数据预处理\n",
    "* 1、移除所有标点符号\n",
    "* 2、移除所有的通用词，如\"the\", \"a\"等。\n",
    "* 在正常邮件和垃圾邮件中，标点符号和通用词汇的数量和类型是相似的，因此这些文本内容并不能起很好的区分作用，属于“无关特征”，需要利用预处理的手段将这些无关特征移除。\n",
    "\n",
    "这里用到的是**NLTK**自然语言处理库"
   ]
  },
  {
   "cell_type": "code",
   "execution_count": 3,
   "metadata": {},
   "outputs": [
    {
     "name": "stderr",
     "output_type": "stream",
     "text": [
      "[nltk_data] Downloading package stopwords to\n",
      "[nltk_data]     C:\\Users\\jie'jie\\AppData\\Roaming\\nltk_data...\n",
      "[nltk_data]   Package stopwords is already up-to-date!\n"
     ]
    },
    {
     "data": {
      "text/html": [
       "<div>\n",
       "<style scoped>\n",
       "    .dataframe tbody tr th:only-of-type {\n",
       "        vertical-align: middle;\n",
       "    }\n",
       "\n",
       "    .dataframe tbody tr th {\n",
       "        vertical-align: top;\n",
       "    }\n",
       "\n",
       "    .dataframe thead th {\n",
       "        text-align: right;\n",
       "    }\n",
       "</style>\n",
       "<table border=\"1\" class=\"dataframe\">\n",
       "  <thead>\n",
       "    <tr style=\"text-align: right;\">\n",
       "      <th></th>\n",
       "      <th>label</th>\n",
       "      <th>message</th>\n",
       "      <th>label_num</th>\n",
       "      <th>message_len</th>\n",
       "      <th>clean_message</th>\n",
       "    </tr>\n",
       "  </thead>\n",
       "  <tbody>\n",
       "    <tr>\n",
       "      <th>0</th>\n",
       "      <td>ham</td>\n",
       "      <td>Ok lar... Joking wif u oni...</td>\n",
       "      <td>0</td>\n",
       "      <td>29</td>\n",
       "      <td>Ok lar Joking wif oni</td>\n",
       "    </tr>\n",
       "    <tr>\n",
       "      <th>1</th>\n",
       "      <td>spam</td>\n",
       "      <td>Free entry in 2 a wkly comp to win FA Cup fina...</td>\n",
       "      <td>1</td>\n",
       "      <td>155</td>\n",
       "      <td>Free entry wkly comp win FA Cup final tkts 21s...</td>\n",
       "    </tr>\n",
       "    <tr>\n",
       "      <th>2</th>\n",
       "      <td>ham</td>\n",
       "      <td>U dun say so early hor... U c already then say...</td>\n",
       "      <td>0</td>\n",
       "      <td>49</td>\n",
       "      <td>U dun say early hor U c already say</td>\n",
       "    </tr>\n",
       "    <tr>\n",
       "      <th>3</th>\n",
       "      <td>ham</td>\n",
       "      <td>Nah I don't think he goes to usf, he lives aro...</td>\n",
       "      <td>0</td>\n",
       "      <td>61</td>\n",
       "      <td>Nah I think goes usf lives around though</td>\n",
       "    </tr>\n",
       "    <tr>\n",
       "      <th>4</th>\n",
       "      <td>spam</td>\n",
       "      <td>FreeMsg Hey there darling it's been 3 week's n...</td>\n",
       "      <td>1</td>\n",
       "      <td>147</td>\n",
       "      <td>FreeMsg Hey darling 3 weeks word back Id like ...</td>\n",
       "    </tr>\n",
       "  </tbody>\n",
       "</table>\n",
       "</div>"
      ],
      "text/plain": [
       "  label                                            message  label_num  \\\n",
       "0   ham                      Ok lar... Joking wif u oni...          0   \n",
       "1  spam  Free entry in 2 a wkly comp to win FA Cup fina...          1   \n",
       "2   ham  U dun say so early hor... U c already then say...          0   \n",
       "3   ham  Nah I don't think he goes to usf, he lives aro...          0   \n",
       "4  spam  FreeMsg Hey there darling it's been 3 week's n...          1   \n",
       "\n",
       "   message_len                                      clean_message  \n",
       "0           29                              Ok lar Joking wif oni  \n",
       "1          155  Free entry wkly comp win FA Cup final tkts 21s...  \n",
       "2           49                U dun say early hor U c already say  \n",
       "3           61           Nah I think goes usf lives around though  \n",
       "4          147  FreeMsg Hey darling 3 weeks word back Id like ...  "
      ]
     },
     "execution_count": 3,
     "metadata": {},
     "output_type": "execute_result"
    }
   ],
   "source": [
    "from sklearn.model_selection import train_test_split  #数据划分\n",
    "import nltk\n",
    "from nltk.corpus import stopwords\n",
    "import string\n",
    "\n",
    "nltk.download(\"stopwords\")  \n",
    "stopword=stopwords.words('english')\n",
    "\n",
    "def text_process(message):\n",
    "    string_message=[char for char in message if char not in string.punctuation]  #strin.punctuation是特殊符号\n",
    "    string_message=''.join(string_message)\n",
    "    string_message=' '.join([word for word in string_message.split() if word not in stopword+['u', 'ü', 'ur', '4', '2', 'im', 'dont', 'doin', 'ure']])\n",
    "    return string_message\n",
    "    \n",
    "df[\"clean_message\"]=df.message.map(text_process)\n",
    "#del df[\"new_message\"]\n",
    "df.head()"
   ]
  },
  {
   "cell_type": "markdown",
   "metadata": {},
   "source": [
    "# 将数据向量化\n",
    "*  CountVectorizer统计词频矩阵\n",
    "\n",
    "    CountVectorizer类会将文本中的词语转换为词频矩阵，例如矩阵中包含一个元素a[i][j]，它表示j词在i类文本下的词频。它通过fit_transform函数首先统计有多少词语出现，然后计算词语出现的次数，形成词频矩阵。训练集用fit_transform方法，测试集用transfrom方法。\n",
    "* from sklearn.feature_extraction.text import TfidfTransformer\n",
    "* x=TfidfTransformer().fit_transform(x)"
   ]
  },
  {
   "cell_type": "code",
   "execution_count": 4,
   "metadata": {},
   "outputs": [],
   "source": [
    "from sklearn.feature_extraction.text import CountVectorizer\n",
    "from sklearn.model_selection import train_test_split\n",
    "x=df[\"clean_message\"]\n",
    "y=df.iloc[:,2].values\n",
    "cv=CountVectorizer()\n",
    "x=cv.fit_transform(x)\n",
    "#print(cv.get_feature_names())   # 列表形式呈现文章生成的词典\n",
    "#print(cv.vocabulary_)            #字典形式呈现，key：词，value:词频\n",
    "'''将数据转化为稀疏矩阵'''\n",
    "x=x.toarray() \n",
    "#划分数据\n",
    "x_train,x_test,y_train,y_test=train_test_split(x,y,test_size=0.2,random_state=20)"
   ]
  },
  {
   "cell_type": "markdown",
   "metadata": {},
   "source": [
    "# 模型训练"
   ]
  },
  {
   "cell_type": "code",
   "execution_count": 5,
   "metadata": {},
   "outputs": [
    {
     "data": {
      "text/plain": [
       "LogisticRegression(C=1.0, class_weight=None, dual=False, fit_intercept=True,\n",
       "                   intercept_scaling=1, l1_ratio=None, max_iter=100,\n",
       "                   multi_class='auto', n_jobs=None, penalty='l2',\n",
       "                   random_state=None, solver='liblinear', tol=0.0001, verbose=0,\n",
       "                   warm_start=False)"
      ]
     },
     "execution_count": 5,
     "metadata": {},
     "output_type": "execute_result"
    }
   ],
   "source": [
    "from sklearn.linear_model import LogisticRegression\n",
    "\n",
    "log_model=LogisticRegression(solver='liblinear')\n",
    "log_model.fit(x_train,y_train)\n"
   ]
  },
  {
   "cell_type": "markdown",
   "metadata": {},
   "source": [
    "# 模型预测+评估"
   ]
  },
  {
   "cell_type": "code",
   "execution_count": 6,
   "metadata": {},
   "outputs": [
    {
     "name": "stdout",
     "output_type": "stream",
     "text": [
      "[0 0 0 ... 0 0 0]\n",
      "测试集准确率=0.9856502242152466\n",
      "[0 0 0 ... 0 0 0]\n",
      "测试集准确率=0.9856502242152466\n"
     ]
    }
   ],
   "source": [
    "test_pred=log_model.predict(x_test)\n",
    "print(test_pred)\n",
    "test_score=log_model.score(x_test,y_test)\n",
    "print(\"测试集准确率=\"+str(test_score))\n",
    "\n",
    "train_pred=log_model.predict(x_train)\n",
    "print(test_pred)\n",
    "train_score=log_model.score(x_train,y_train)\n",
    "print(\"测试集准确率=\"+str(test_score))\n"
   ]
  }
 ],
 "metadata": {
  "interpreter": {
   "hash": "8f03fb8992b0e5aa6a67cd56eb653950a01f214acb97d94a2178dd1aa47d1bcf"
  },
  "kernelspec": {
   "display_name": "Python 3.7.6 64-bit ('base': conda)",
   "language": "python",
   "name": "python3"
  },
  "language_info": {
   "codemirror_mode": {
    "name": "ipython",
    "version": 3
   },
   "file_extension": ".py",
   "mimetype": "text/x-python",
   "name": "python",
   "nbconvert_exporter": "python",
   "pygments_lexer": "ipython3",
   "version": "3.7.6"
  },
  "orig_nbformat": 4
 },
 "nbformat": 4,
 "nbformat_minor": 2
}
