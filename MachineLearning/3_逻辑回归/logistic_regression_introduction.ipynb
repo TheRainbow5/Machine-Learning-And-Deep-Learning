{
 "cells": [
  {
   "cell_type": "markdown",
   "metadata": {},
   "source": [
    "# 逻辑回归\n",
    "\n",
    "    逻辑回归=线性回归+sigmoid函数\n",
    "* 解决二分类问题\n",
    "## 1.应用场景\n",
    "* 广告点击率\n",
    "* 是否为垃圾邮件\n",
    "* 是否患病\n",
    "* 金融诈骗\n",
    "* 虚假账号\n"
   ]
  },
  {
   "cell_type": "markdown",
   "metadata": {},
   "source": [
    "## 2.逻辑回归的原理\n",
    "### 2.1输入\n",
    "* h(x)=w1x+w2x+w3x....wnx+b\n",
    "### 2.2激活函数\n",
    "* sigmoid函数\n",
    "![](https://img-blog.csdnimg.cn/212c93f24dcd46ab9bfc6472d58ad53f.png)\n",
    "（上图解释：其实g(w,x)的值就是最后结果的的概率值）\n",
    "### 2.3输出结果\n",
    "![](https://img-blog.csdnimg.cn/e1d92df883c140a3b0aa0a1b2305c04e.png?x-oss-process=image/watermark,type_d3F5LXplbmhlaQ,shadow_50,text_Q1NETiBA5ZWl6YO95Lya5LiA54K555qE5pys56eR5YOn,size_17,color_FFFFFF,t_70,g_se,x_16)\n",
    "(上图解释：逻辑回归最终的分类是通过类别的概率值来判断是否属于某个类别)\n",
    "#### 2.3.1输出结果的解释\n",
    "假设默认的概率阈值是0.6，如果A类别的输出的概率是0.55，则当前类别属于a类别。\n",
    "**逻辑回归的阈值是可以进行改变的**。\n",
    "\n",
    "#### 2.3.2如何去衡量其损失呢？\n",
    "![](https://img-blog.csdnimg.cn/9f38048fe2cd48ce86273549a78a6cd4.png?x-oss-process=image/watermark,type_d3F5LXplbmhlaQ,shadow_50,text_Q1NETiBA5ZWl6YO95Lya5LiA54K555qE5pys56eR5YOn,size_18,color_FFFFFF,t_70,g_se,x_16)\n"
   ]
  },
  {
   "cell_type": "markdown",
   "metadata": {},
   "source": [
    "## 3.损失以及优化\n",
    "### 3.1损失\n",
    "![](https://img-blog.csdnimg.cn/c28a53c7d38a466b817cd9cc0d3a5d1d.png)\n",
    "（上图解释：y是真实值，h(x)是预测值）\n",
    "\n",
    "带入上图数值计算过程\n",
    "![](https://img-blog.csdnimg.cn/297ea93cc5364d64a19195f45aa8d074.png?x-oss-process=image/watermark,type_d3F5LXplbmhlaQ,shadow_50,text_Q1NETiBA5ZWl6YO95Lya5LiA54K555qE5pys56eR5YOn,size_16,color_FFFFFF,t_70,g_se,x_16)\n",
    "\n",
    "### 3.2优化\n",
    "* 批量梯度下降算法\n",
    "* 牛顿迭代方法"
   ]
  }
 ],
 "metadata": {
  "language_info": {
   "name": "python"
  },
  "orig_nbformat": 4
 },
 "nbformat": 4,
 "nbformat_minor": 2
}
