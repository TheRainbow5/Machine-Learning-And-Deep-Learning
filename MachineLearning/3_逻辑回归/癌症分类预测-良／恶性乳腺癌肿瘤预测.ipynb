{
 "cells": [
  {
   "cell_type": "code",
   "execution_count": 47,
   "metadata": {},
   "outputs": [
    {
     "name": "stdout",
     "output_type": "stream",
     "text": [
      "559\n",
      "140\n"
     ]
    }
   ],
   "source": [
    "import numpy as np\n",
    "import pandas as pd\n",
    "from sklearn.model_selection import train_test_split\n",
    "from sklearn.preprocessing import StandardScaler\n",
    "from sklearn.impute import SimpleImputer\n",
    "\n",
    "#导入数据\n",
    "names = ['Sample code number', 'Clump Thickness', 'Uniformity of Cell Size', 'Uniformity of Cell Shape',\n",
    "                   'Marginal Adhesion', 'Single Epithelial Cell Size', 'Bare Nuclei', 'Bland Chromatin',\n",
    "                   'Normal Nucleoli', 'Mitoses', 'Class']\n",
    "df=pd.read_csv(r\"D:\\program_Lab_Report\\machine_learning\\100day\\code\\3_逻辑回归\\breast-cancer-wisconsin.data\",names=names)\n",
    "df=df.replace(to_replace=\"?\", value=np.NaN)  #替换符号\n",
    "x=df.iloc[:,1:10].values\n",
    "imputer=SimpleImputer(strategy=\"mean\")  #用均值替代缺失值\n",
    "imputer=imputer.fit(x[:,1:10])\n",
    "x[:,1:10]=imputer.transform(x[:,1:10])\n",
    "y=df.iloc[:,-1].values\n",
    "#划分数据\n",
    "x_train,x_test,y_train,y_test=train_test_split(x,y,test_size=0.2)\n",
    "print(len(x_train))\n",
    "print(len(x_test))\n",
    "#特征工程\n",
    "sd=StandardScaler()\n",
    "x_train=sd.fit_transform(x_train)\n",
    "x_test=sd.transform(x_test)"
   ]
  },
  {
   "cell_type": "markdown",
   "metadata": {},
   "source": [
    "# 模型优化\n",
    "* sklearn.linear_model.LogisticRegression()\n",
    "* solver可选参数:{'liblinear', 'sag', 'saga','newton-cg', 'lbfgs'}\n",
    "    * 默认: 'liblinear'；⽤于优化问题的算法。\n",
    "    \n",
    "    * 对于⼩数据集来说，“liblinear”是个不错的选择，⽽“sag”和'saga'对于⼤型数据集会更快。\n",
    "\n",
    "    * 对于多类问题，只有'newton-cg'， 'sag'， 'saga'和'lbfgs'可以处理多项损失;“liblinear”仅限于\n",
    "    “one-versusrest”分类。\n",
    "* penalty：正则化的种类\n",
    "* C：正则化⼒度"
   ]
  },
  {
   "cell_type": "code",
   "execution_count": 48,
   "metadata": {},
   "outputs": [
    {
     "data": {
      "text/plain": [
       "LogisticRegression(C=1.0, class_weight=None, dual=False, fit_intercept=True,\n",
       "                   intercept_scaling=1, l1_ratio=None, max_iter=100,\n",
       "                   multi_class='auto', n_jobs=None, penalty='l2',\n",
       "                   random_state=None, solver='lbfgs', tol=0.0001, verbose=0,\n",
       "                   warm_start=False)"
      ]
     },
     "execution_count": 48,
     "metadata": {},
     "output_type": "execute_result"
    }
   ],
   "source": [
    "#模型训练和优化\n",
    "from sklearn.linear_model import LogisticRegression\n",
    "estimator=LogisticRegression()\n",
    "estimator.fit(x_train,y_train)"
   ]
  },
  {
   "cell_type": "code",
   "execution_count": 51,
   "metadata": {},
   "outputs": [
    {
     "name": "stdout",
     "output_type": "stream",
     "text": [
      "[2 2 4 4 4 2 2 2 2 4 2 2 2 2 4 2 2 4 2 4 4 4 2 2 2 2 4 2 2 4 4 4 2 2 2 2 4\n",
      " 2 2 2 4 4 4 2 2 4 4 2 4 2 2 2 2 2 4 2 2 2 2 4 2 2 2 2 4 4 4 2 2 2 4 2 4 2\n",
      " 4 4 2 2 2 4 4 4 2 4 2 2 2 4 2 2 2 4 2 2 2 4 2 2 2 2 4 2 2 2 4 4 4 2 4 4 4\n",
      " 2 4 2 2 4 2 2 2 4 4 2 4 4 2 4 2 2 2 2 2 4 4 2 4 2 2 2 2 2]\n",
      "Accuracy=96.42857142857143%\n"
     ]
    }
   ],
   "source": [
    "#模型评估\n",
    "test_pred=estimator.predict(x_test)\n",
    "print(test_pred)\n",
    "score=estimator.score(x_test,y_test)\n",
    "print(f\"Accuracy={score*100}%\")  #Calculate accuracy"
   ]
  }
 ],
 "metadata": {
  "interpreter": {
   "hash": "8f03fb8992b0e5aa6a67cd56eb653950a01f214acb97d94a2178dd1aa47d1bcf"
  },
  "kernelspec": {
   "display_name": "Python 3.7.6 64-bit ('base': conda)",
   "language": "python",
   "name": "python3"
  },
  "language_info": {
   "codemirror_mode": {
    "name": "ipython",
    "version": 3
   },
   "file_extension": ".py",
   "mimetype": "text/x-python",
   "name": "python",
   "nbconvert_exporter": "python",
   "pygments_lexer": "ipython3",
   "version": "3.7.6"
  },
  "orig_nbformat": 4
 },
 "nbformat": 4,
 "nbformat_minor": 2
}
