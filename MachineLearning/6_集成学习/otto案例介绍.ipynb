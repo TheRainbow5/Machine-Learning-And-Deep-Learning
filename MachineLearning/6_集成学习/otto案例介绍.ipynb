{
 "cells": [
  {
   "cell_type": "code",
   "execution_count": 2,
   "metadata": {},
   "outputs": [
    {
     "data": {
      "image/png": "[encoded data removed]",
      "text/plain": [
       "<Figure size 432x288 with 1 Axes>"
      ]
     },
     "metadata": {
      "needs_background": "light"
     },
     "output_type": "display_data"
    }
   ],
   "source": [
    "import numpy as np\n",
    "import pandas as pd\n",
    "import matplotlib.pyplot as plt\n",
    "import seaborn as sns\n",
    "#导入数据\n",
    "df=pd.read_csv(r\"D:\\program_Lab_Report\\machine_learning\\100day\\code\\6_集成学习\\otto.csv\")\n",
    "target=df[\"target\"].unique()\n",
    "# 图形可视化，查看数据分布\n",
    "sns.countplot(df.target)\n",
    "plt.show()\n"
   ]
  },
  {
   "cell_type": "markdown",
   "metadata": {},
   "source": [
    "## 数据预处理\n",
    "* 随机采样数据\n",
    "* 数据划分"
   ]
  },
  {
   "cell_type": "code",
   "execution_count": 3,
   "metadata": {},
   "outputs": [],
   "source": [
    "from sklearn.model_selection import train_test_split\n",
    "from sklearn.preprocessing import LabelEncoder  #标签数字化\n",
    "\n",
    "le = LabelEncoder()\n",
    "y=df.iloc[:,-1].values\n",
    "y=le.fit_transform(y)\n",
    "x=df.iloc[:,1:-1].values\n",
    "x_train,x_test,y_train,y_test=train_test_split(x,y,test_size=0.2,random_state=30) #随机采样"
   ]
  },
  {
   "cell_type": "markdown",
   "metadata": {},
   "source": [
    "## 模型训练\n",
    "sklearn.ensemble.RandomForestClassifier(n_estimators=10, criterion=’gini’, max_depth=None, bootstrap=True,\n",
    "random_state=None, min_samples_split=2)\n",
    "* min_samples_split 内部节点再划分所需最⼩样本数\n",
    "    * 这个值限制了⼦树继续划分的条件，如果某节点的样本数少于min_samples_split，则不会继续再尝试选择最优特征来进⾏划分，默认是2。\n",
    "    * 如果样本量不⼤，不需要管这个值。如果样本量数量级⾮常⼤，则推荐增⼤这个值。"
   ]
  },
  {
   "cell_type": "code",
   "execution_count": 4,
   "metadata": {},
   "outputs": [
    {
     "data": {
      "text/plain": [
       "RandomForestClassifier(bootstrap=True, ccp_alpha=0.0, class_weight=None,\n",
       "                       criterion='gini', max_depth=None, max_features='auto',\n",
       "                       max_leaf_nodes=None, max_samples=None,\n",
       "                       min_impurity_decrease=0.0, min_impurity_split=None,\n",
       "                       min_samples_leaf=1, min_samples_split=2,\n",
       "                       min_weight_fraction_leaf=0.0, n_estimators=100,\n",
       "                       n_jobs=None, oob_score=False, random_state=None,\n",
       "                       verbose=0, warm_start=False)"
      ]
     },
     "execution_count": 4,
     "metadata": {},
     "output_type": "execute_result"
    }
   ],
   "source": [
    "from sklearn.ensemble import RandomForestClassifier\n",
    "\n",
    "rf= RandomForestClassifier()\n",
    "rf.fit(x_train, y_train)"
   ]
  },
  {
   "cell_type": "code",
   "execution_count": 5,
   "metadata": {},
   "outputs": [
    {
     "name": "stdout",
     "output_type": "stream",
     "text": [
      "[8 2 1 ... 2 4 5]\n",
      "0.809469941822883\n"
     ]
    }
   ],
   "source": [
    "#模型测试\n",
    "test_pred=rf.predict(x_test)\n",
    "print(test_pred)\n",
    "test_score=rf.score(x_test,y_test)\n",
    "print(test_score)"
   ]
  },
  {
   "cell_type": "markdown",
   "metadata": {},
   "source": [
    "## 模型优化\n",
    "* n_estimators\n",
    "* max_feature\n",
    "* max_depth\n",
    "* min_sample_leaf"
   ]
  },
  {
   "cell_type": "markdown",
   "metadata": {},
   "source": [
    "### 确定最优的n_estimators\n",
    "* n_estimators：integer，optional(default = 10)森林⾥的树⽊数量120,200,300,500,800,1200\n",
    "    * 在利⽤最⼤投票数或平均值来预测之前，你想要建⽴⼦树的数量。"
   ]
  },
  {
   "cell_type": "code",
   "execution_count": 14,
   "metadata": {},
   "outputs": [
    {
     "data": {
      "text/plain": [
       "Text(0, 0.5, 'error_t')"
      ]
     },
     "execution_count": 14,
     "metadata": {},
     "output_type": "execute_result"
    },
    {
     "data": {
      "image/png": "[encoded data removed]",
      "text/plain": [
       "<Figure size 432x288 with 1 Axes>"
      ]
     },
     "metadata": {
      "needs_background": "light"
     },
     "output_type": "display_data"
    }
   ],
   "source": [
    "#import matplotlib.pyplot as plt\n",
    "#import numpy as np\n",
    "##确定n_esimators的取值范围\n",
    "#tuned_parameters = range(195, 230, 5)  #每个数，间隔十\n",
    "##创建添加accuracy的一个numpy\n",
    "#accuracy_t = np.zeros(len(tuned_parameters))\n",
    "##创建添加error的一个numpy\n",
    "#error_t = np.zeros(len(tuned_parameters))\n",
    "##调优过程实现\n",
    "#for j, one_parameter in enumerate(tuned_parameters):\n",
    "#    rf2 = RandomForestClassifier(n_estimators=one_parameter)\n",
    "#    rf2.fit(x_train, y_train)\n",
    "#    # 输出accuracy\n",
    "#    accuracy_t[j] = rf2.score(x_test,y_test)\n",
    "#    \n",
    "#'''可视化优化过程'''   \n",
    "#plt.plot(tuned_parameters,accuracy_t)\n",
    "#plt.grid()\n",
    "#plt.xlabel('n_estimators')\n",
    "#plt.ylabel('error_t')"
   ]
  },
  {
   "cell_type": "markdown",
   "metadata": {},
   "source": [
    "### 确定max_feature\n",
    "* If \"auto\", then max_features=sqrt(n_features) .\n",
    "* If \"sqrt\", then max_features=sqrt(n_features) (same as \"auto\").\n",
    "* If \"log2\", then max_features=log2(n_features) .\n",
    "* If None, then max_features=n_features ."
   ]
  },
  {
   "cell_type": "code",
   "execution_count": 15,
   "metadata": {},
   "outputs": [
    {
     "name": "stdout",
     "output_type": "stream",
     "text": [
      "0.8122171945701357\n",
      "0.8120555914673562\n",
      "0.8082579185520362\n"
     ]
    }
   ],
   "source": [
    "#import numpy as np\n",
    "##确定n_esimators的取值范围\n",
    "#tuned_parameters =[\"auto\",\"sqrt\",\"log2\"]  #每个数，间隔十\n",
    "##创建添加accuracy的一个numpy\n",
    "#accuracy_t = np.zeros(len(tuned_parameters))\n",
    "##创建添加error的一个numpy\n",
    "#error_t = np.zeros(len(tuned_parameters))\n",
    "##调优过程实现\n",
    "#for j, one_parameter in enumerate(tuned_parameters):\n",
    "#    #print(j,one_parameter)\n",
    "#    rf2 = RandomForestClassifier(n_estimators=175,\n",
    "#                                max_features=one_parameter)\n",
    "#    rf2.fit(x_train, y_train)\n",
    "#    # 输出accuracy\n",
    "#    accuracy_t[j] = rf2.score(x_test,y_test)\n",
    "#    print(accuracy_t[j])"
   ]
  },
  {
   "cell_type": "code",
   "execution_count": 16,
   "metadata": {},
   "outputs": [
    {
     "data": {
      "text/plain": [
       "Text(0, 0.5, 'accuracy_t')"
      ]
     },
     "execution_count": 16,
     "metadata": {},
     "output_type": "execute_result"
    },
    {
     "data": {
      "image/png": "[encoded data removed]",
      "text/plain": [
       "<Figure size 432x288 with 1 Axes>"
      ]
     },
     "metadata": {
      "needs_background": "light"
     },
     "output_type": "display_data"
    }
   ],
   "source": [
    "#import matplotlib.pyplot as plt\n",
    "#'''可视化优化过程'''   \n",
    "#plt.title(\"max_feature\")\n",
    "#plt.plot(tuned_parameters,accuracy_t)\n",
    "#plt.grid()\n",
    "#plt.xlabel('n_estimators')\n",
    "#plt.ylabel('accuracy_t')"
   ]
  },
  {
   "cell_type": "markdown",
   "metadata": {},
   "source": [
    "### 确定max_depth\n",
    "* max_depth：integer或None，可选(默认=⽆)\n",
    "    * 树的最⼤深度 5,8,15,25,30"
   ]
  },
  {
   "cell_type": "code",
   "execution_count": 19,
   "metadata": {},
   "outputs": [],
   "source": [
    "import numpy as np\n",
    "#确定n_esimators的取值范围\n",
    "tuned_parameters =range(10,100,10)  #每个数，间隔十\n",
    "#创建添加accuracy的一个numpy\n",
    "accuracy_t = np.zeros(len(tuned_parameters))\n",
    "#创建添加error的一个numpy\n",
    "error_t = np.zeros(len(tuned_parameters))\n",
    "#调优过程实现\n",
    "for j, one_parameter in enumerate(tuned_parameters):\n",
    "    #print(j,one_parameter)\n",
    "    rf2 = RandomForestClassifier(n_estimators=215,\n",
    "                                max_features=\"auto\",\n",
    "                                max_depth=one_parameter)\n",
    "    rf2.fit(x_train, y_train)\n",
    "    # 输出accuracy\n",
    "    accuracy_t[j] = rf2.score(x_test,y_test)\n",
    "    #print(accuracy_t[j])"
   ]
  },
  {
   "cell_type": "code",
   "execution_count": 20,
   "metadata": {},
   "outputs": [
    {
     "data": {
      "text/plain": [
       "Text(0, 0.5, 'accuracy_t')"
      ]
     },
     "execution_count": 20,
     "metadata": {},
     "output_type": "execute_result"
    },
    {
     "data": {
      "image/png": "[encoded data removed]",
      "text/plain": [
       "<Figure size 432x288 with 1 Axes>"
      ]
     },
     "metadata": {
      "needs_background": "light"
     },
     "output_type": "display_data"
    }
   ],
   "source": [
    "#import matplotlib.pyplot as plt\n",
    "#'''可视化优化过程'''   \n",
    "#plt.title(\"max_depth\")\n",
    "#plt.plot(tuned_parameters,accuracy_t)\n",
    "#plt.grid()\n",
    "#plt.xlabel('n_estimators')\n",
    "#plt.ylabel('accuracy_t')"
   ]
  },
  {
   "cell_type": "markdown",
   "metadata": {},
   "source": [
    "### 确定min_sample_leaf\n",
    "* min_samples_leaf 叶⼦节点的最⼩样本数\n",
    "    * 这个值限制了叶⼦节点最少的样本数，如果某叶⼦节点数⽬⼩于样本数，则会和兄弟节点⼀起被剪枝，默认是1。\n",
    "    * 叶是决策树的末端节点。 较⼩的叶⼦使模型更容易捕捉训练数据中的噪声。\n",
    "    * ⼀般来说，我更偏向于将最⼩叶⼦节点数⽬设置为⼤于50。"
   ]
  },
  {
   "cell_type": "code",
   "execution_count": 21,
   "metadata": {},
   "outputs": [],
   "source": [
    "#import numpy as np\n",
    "##确定n_esimators的取值范围\n",
    "#tuned_parameters =range(10,100,10)  #每个数，间隔十\n",
    "##创建添加accuracy的一个numpy\n",
    "#accuracy_t = np.zeros(len(tuned_parameters))\n",
    "##创建添加error的一个numpy\n",
    "#error_t = np.zeros(len(tuned_parameters))\n",
    "##调优过程实现\n",
    "#for j, one_parameter in enumerate(tuned_parameters):\n",
    "#    #print(j,one_parameter)\n",
    "#    rf2 = RandomForestClassifier(n_estimators=215,\n",
    "#                                max_features=\"auto\",\n",
    "#                                max_depth=50,\n",
    "#                                min_samples_leaf=one_parameter)\n",
    "#    rf2.fit(x_train, y_train)\n",
    "#    # 输出accuracy\n",
    "#    accuracy_t[j] = rf2.score(x_test,y_test)\n",
    "#    #print(accuracy_t[j])"
   ]
  },
  {
   "cell_type": "code",
   "execution_count": 22,
   "metadata": {},
   "outputs": [
    {
     "data": {
      "text/plain": [
       "Text(0, 0.5, 'accuracy_t')"
      ]
     },
     "execution_count": 22,
     "metadata": {},
     "output_type": "execute_result"
    },
    {
     "data": {
      "image/png": "[encoded data removed]",
      "text/plain": [
       "<Figure size 432x288 with 1 Axes>"
      ]
     },
     "metadata": {
      "needs_background": "light"
     },
     "output_type": "display_data"
    }
   ],
   "source": [
    "#import matplotlib.pyplot as plt\n",
    "#'''可视化优化过程'''   \n",
    "#plt.title(\"min_sample_leaf\")\n",
    "#plt.plot(tuned_parameters,accuracy_t)\n",
    "#plt.grid()\n",
    "#plt.xlabel('n_estimators')\n",
    "#plt.ylabel('accuracy_t')"
   ]
  },
  {
   "cell_type": "markdown",
   "metadata": {},
   "source": [
    "## 最优模型\n",
    "* n_estimators=215,\n",
    "* max_features=\"auto\",\n",
    "* max_depth=90"
   ]
  },
  {
   "cell_type": "code",
   "execution_count": 13,
   "metadata": {},
   "outputs": [
    {
     "name": "stdout",
     "output_type": "stream",
     "text": [
      "0.8119747899159664\n"
     ]
    }
   ],
   "source": [
    "from sklearn.ensemble import RandomForestClassifier\n",
    "\n",
    "rf= RandomForestClassifier(n_estimators=215,\n",
    "                            max_features=\"auto\",\n",
    "                            max_depth=90\n",
    "                            )\n",
    "rf.fit(x_train, y_train)\n",
    "\n",
    "test_score=rf.score(x_test,y_test)\n",
    "print(test_score)"
   ]
  }
 ],
 "metadata": {
  "interpreter": {
   "hash": "8f03fb8992b0e5aa6a67cd56eb653950a01f214acb97d94a2178dd1aa47d1bcf"
  },
  "kernelspec": {
   "display_name": "Python 3.7.6 64-bit ('base': conda)",
   "language": "python",
   "name": "python3"
  },
  "language_info": {
   "codemirror_mode": {
    "name": "ipython",
    "version": 3
   },
   "file_extension": ".py",
   "mimetype": "text/x-python",
   "name": "python",
   "nbconvert_exporter": "python",
   "pygments_lexer": "ipython3",
   "version": "3.7.6"
  },
  "orig_nbformat": 4
 },
 "nbformat": 4,
 "nbformat_minor": 2
}
