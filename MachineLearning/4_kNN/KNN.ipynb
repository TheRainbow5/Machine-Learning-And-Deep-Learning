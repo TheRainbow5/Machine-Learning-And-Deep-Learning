{
 "cells": [
  {
   "cell_type": "markdown",
   "metadata": {},
   "source": [
    "# KNN"
   ]
  },
  {
   "cell_type": "markdown",
   "metadata": {},
   "source": [
    "## KNN介绍\n",
    "\n",
    "1．$k$近邻法是基本且简单的分类与回归方法。$k$近邻法的基本做法是：对给定的训练实例点和输入实例点，首先确定输入实例点的$k$个最近邻训练实例点，然后利用这$k$个训练实例点的类的多数来预测输入实例点的类。\n",
    "\n",
    "2．$k$近邻模型对应于基于训练数据集对特征空间的一个划分。$k$近邻法中，当训练集、距离度量、$k$值及分类决策规则确定后，其结果唯一确定。\n",
    "\n",
    "3．$k$近邻法三要素：距离度量、$k$值的选择和分类决策规则。常用的距离度量是欧氏距离及更一般的**pL**距离。$k$值小时，$k$近邻模型更复杂；$k$值大时，$k$近邻模型更简单。$k$值的选择反映了对近似误差与估计误差之间的权衡，通常由交叉验证选择最优的$k$。\n",
    "\n",
    "常用的分类决策规则是多数表决，对应于经验风险最小化。\n",
    "\n",
    "4．$k$近邻法的实现需要考虑如何快速搜索k个最近邻点。**kd**树是一种便于对k维空间中的数据进行快速检索的数据结构。kd树是二叉树，表示对$k$维空间的一个划分，其每个结点对应于$k$维空间划分中的一个超矩形区域。利用**kd**树可以省去对大部分数据点的搜索， 从而减少搜索的计算量。\n",
    "\n",
    "### 距离度量\n",
    "\n",
    "设特征空间$x$是$n$维实数向量空间 ，$x_{i}, x_{j} \\in \\mathcal{X}$,$x_{i}=\\left(x_{i}^{(1)}, x_{i}^{(2)}, \\cdots, x_{i}^{(n)}\\right)^{\\mathrm{T}}$,$x_{j}=\\left(x_{j}^{(1)}, x_{j}^{(2)}, \\cdots, x_{j}^{(n)}\\right)^{\\mathrm{T}}$\n",
    "，则：$x_i,x_j$的$L_p$距离定义为:\n",
    "\n",
    "\n",
    "$L_{p}\\left(x_{i}, x_{j}\\right)=\\left(\\sum_{i=1}^{n}\\left|x_{i}^{(i)}-x_{j}^{(l)}\\right|^{p}\\right)^{\\frac{1}{p}}$\n",
    "\n",
    "- $p= 1$  曼哈顿距离\n",
    "- $p= 2$  欧氏距离\n",
    "- $p= \\infty$   切比雪夫距离"
   ]
  },
  {
   "cell_type": "markdown",
   "metadata": {},
   "source": [
    "## 1、数据预处理\n",
    "* 导入需要的库\n",
    "* 导入数据\n",
    "* 检查数据缺失值，Onehotencoder编码是对离散特征值的编码方式，用于给线性模型增加非线性能力。\n",
    "* 划分数据集\n",
    "* 特征工程"
   ]
  },
  {
   "cell_type": "code",
   "execution_count": 9,
   "metadata": {},
   "outputs": [],
   "source": [
    "import numpy as np \n",
    "import pandas as pd\n",
    "from sklearn.datasets import load_iris  #数据集\n",
    "from sklearn.model_selection import train_test_split #数据划分\n",
    "from sklearn.preprocessing import StandardScaler\n",
    "#导入数据集\n",
    "iris=load_iris()\n",
    "df=pd.DataFrame(iris.data,columns=iris.feature_names)\n",
    "df[\"label\"]=iris.target\n",
    "x=df.iloc[:,:2].values\n",
    "y=df.iloc[:,-1].values\n",
    "#划分数据集\n",
    "x_train,x_test,y_train,y_test=train_test_split(x,y,train_size=0.8,random_state=0)\n",
    "#特征工程:由于数据并没有过大的差值，本实例不进行特征工程\n",
    "sd=StandardScaler()\n",
    "x_train=sd.fit_transform(x_train)\n",
    "x_test=sd.transform(x_test)"
   ]
  },
  {
   "cell_type": "markdown",
   "metadata": {},
   "source": [
    "## 模型训练\n",
    "* sklearn.neighbors库的KNeighborsClassifier类。\n",
    "* 创建一个KNeighborsClassifier类的**classifier**对象。\n",
    "* 使用KNeighborsClassifier类的fit()方法将**classifier**对象对数据集进行训练。"
   ]
  },
  {
   "cell_type": "code",
   "execution_count": 10,
   "metadata": {},
   "outputs": [
    {
     "data": {
      "text/plain": [
       "KNeighborsClassifier(algorithm='auto', leaf_size=30, metric='minkowski',\n",
       "                     metric_params=None, n_jobs=None, n_neighbors=5, p=2,\n",
       "                     weights='uniform')"
      ]
     },
     "execution_count": 10,
     "metadata": {},
     "output_type": "execute_result"
    }
   ],
   "source": [
    "from sklearn.neighbors import KNeighborsClassifier\n",
    "classifier=KNeighborsClassifier()\n",
    "classifier.fit(x_train,y_train)"
   ]
  },
  {
   "cell_type": "markdown",
   "metadata": {},
   "source": [
    "## 模型预测\n",
    "\n"
   ]
  },
  {
   "cell_type": "code",
   "execution_count": 11,
   "metadata": {},
   "outputs": [
    {
     "name": "stdout",
     "output_type": "stream",
     "text": [
      "[1 1 0 2 0 2 0 1 2 2 1 2 2 2 2 0 2 1 0 0 1 1 0 0 2 0 0 2 1 0]\n",
      "Compare actual results with predicted results:\n",
      " [False  True  True  True  True  True  True  True False False False False\n",
      " False False False  True False  True  True  True False  True  True  True\n",
      "  True  True  True False  True  True]\n"
     ]
    }
   ],
   "source": [
    "#测试集\n",
    "y_pred=classifier.predict(x_test)    #预测结果\n",
    "print(y_pred)\n",
    "print(\"Compare actual results with predicted results:\\n\",y_pred==y_test)  "
   ]
  },
  {
   "cell_type": "markdown",
   "metadata": {},
   "source": [
    "## 模型评估"
   ]
  },
  {
   "cell_type": "code",
   "execution_count": 12,
   "metadata": {},
   "outputs": [
    {
     "name": "stdout",
     "output_type": "stream",
     "text": [
      "Accuracy=63.33333333333333%\n"
     ]
    }
   ],
   "source": [
    "#测试集\n",
    "score=classifier.score(x_test,y_test)  #计算准确率\n",
    "print(f\"Accuracy={score*100}%\")  #Calculate accuracy"
   ]
  },
  {
   "cell_type": "markdown",
   "metadata": {},
   "source": [
    "## 优化\n",
    "\n",
    "如何确定最佳k值? 因此我们运用到交叉验证。\n",
    "* sklearn.model_selection.GridSearchCV(estimator,param_grid=None,cv=None)\n",
    "* param_grid: Estimator parameters(dict){\"n_neighbors:[1,4,6]\"}\n",
    "* cv=4: 4 fold cross-validation(4折交叉验证) "
   ]
  },
  {
   "cell_type": "code",
   "execution_count": 18,
   "metadata": {},
   "outputs": [
    {
     "name": "stdout",
     "output_type": "stream",
     "text": [
      "GridSearchCV(cv=5, error_score=nan,\n",
      "             estimator=KNeighborsClassifier(algorithm='auto', leaf_size=30,\n",
      "                                            metric='minkowski',\n",
      "                                            metric_params=None, n_jobs=None,\n",
      "                                            n_neighbors=5, p=2,\n",
      "                                            weights='uniform'),\n",
      "             iid='deprecated', n_jobs=None,\n",
      "             param_grid={'n_neighbors': [4, 3, 6, 7, 8]},\n",
      "             pre_dispatch='2*n_jobs', refit=True, return_train_score=False,\n",
      "             scoring=None, verbose=0)\n",
      "[0 1 0 1 1 0 0 1 0 1 0 0 0 1 1 0 0 0 1 0 0 1 0 1 0 1 0 0 0 1 1 1 0 1 0 0 0\n",
      " 1 0 1 0 0 1 1 0 1 0 0 0 0 0 0 0 0 0 0 1 0 1 0 1 0 0 0 1 1 1 0 0 1 1 0 0 0\n",
      " 1 0 0 1 1 0]\n",
      "Compare actual results with predicted results:\n",
      " [ True  True  True  True  True  True  True  True  True  True  True False\n",
      "  True  True  True  True  True  True  True  True  True  True  True  True\n",
      "  True False  True  True  True  True  True  True  True  True  True  True\n",
      "  True  True  True  True  True  True  True  True  True  True  True  True\n",
      "  True  True  True  True  True  True  True  True  True  True  True  True\n",
      "  True False  True  True  True False  True  True  True False  True  True\n",
      " False  True  True False  True  True  True  True]\n",
      "Accuracy=91.25%\n"
     ]
    }
   ],
   "source": [
    "from sklearn.model_selection import GridSearchCV\n",
    "#模型训练\n",
    "estimator=KNeighborsClassifier() #可以输入k值\n",
    "'''several fold cross-validation'''\n",
    "param_dict={\"n_neighbors\":[4,3,6,7,8]} #K-value gird search（k值网格搜索）\n",
    "estimator=GridSearchCV(estimator=estimator, #优化器\n",
    "                        param_grid=param_dict, #网格搜索k值\n",
    "                        cv=5  #几折交叉验证\n",
    "                        )\n",
    "estimator.fit(x_train,y_train)  #模型训练\n",
    "print(estimator)\n",
    "#模型预测\n",
    "test_pred=estimator.predict(x_test)    #预测结果\n",
    "print(test_pred)\n",
    "print(\"Compare actual results with predicted results:\\n\",test_pred==y_test)  \n",
    "#模型评估\n",
    "score=estimator.score(x_test,y_test)  #计算准确率\n",
    "print(f\"Accuracy={score*100}%\")  #Calculate accuracy"
   ]
  },
  {
   "cell_type": "markdown",
   "metadata": {},
   "source": [
    "## 模型保存\n",
    "* sklearn.externals import joblib【知道】\n",
    "* 保存：joblib.dump(estimator, 'test.pkl')\n",
    "* 加载：estimator = joblib.load('test.pkl')\n"
   ]
  },
  {
   "cell_type": "code",
   "execution_count": 20,
   "metadata": {},
   "outputs": [
    {
     "name": "stdout",
     "output_type": "stream",
     "text": [
      "320\n",
      "80\n",
      "GridSearchCV(cv=5, error_score=nan,\n",
      "             estimator=KNeighborsClassifier(algorithm='auto', leaf_size=30,\n",
      "                                            metric='minkowski',\n",
      "                                            metric_params=None, n_jobs=None,\n",
      "                                            n_neighbors=5, p=2,\n",
      "                                            weights='uniform'),\n",
      "             iid='deprecated', n_jobs=None,\n",
      "             param_grid={'n_neighbors': [4, 3, 6, 7, 8]},\n",
      "             pre_dispatch='2*n_jobs', refit=True, return_train_score=False,\n",
      "             scoring=None, verbose=0)\n",
      "[1 0 0 1 0 0 1 0 1 0 1 0 0 1 1 0 0 1 0 0 0 0 0 0 1 0 0 0 0 0 1 0 1 0 1 1 1\n",
      " 1 1 1 0 1 0 1 0 0 0 1 1 0 0 0 0 0 1 0 1 1 1 0 0 0 0 1 0 1 0 1 0 0 0 0 0 1\n",
      " 1 0 0 0 0 0]\n",
      "Accuracy=93.75%\n"
     ]
    }
   ],
   "source": [
    "from sklearn.externals import joblib  \n",
    "from sklearn.preprocessing import  StandardScaler\n",
    "\n",
    "#导入数据\n",
    "data=pd.read_csv(r\"D:\\program Lab Report\\machine learning\\100day\\datasets\\Social_Network_Ads.csv\")\n",
    "x=data.iloc[:,[2,3]].values\n",
    "y=data.iloc[:,-1].values\n",
    "#数据划分\n",
    "x_train,x_test,y_train,y_test=train_test_split(x,y,test_size=0.2)\n",
    "print(len(x_train))\n",
    "print(len(x_test))\n",
    "#特征工程\n",
    "sd=StandardScaler()\n",
    "x_train=sd.fit_transform(x_train)\n",
    "x_test=sd.transform(x_test)\n",
    "\n",
    "#导入模型\n",
    "best_estimator=joblib.dump(estimator,r\"knn_test.pkl\")  #模型保存\n",
    "estimator=joblib.load(r\"D:\\program Lab Report\\machine learning\\100day\\code\\4_kNN\\knn_test.pkl\")\n",
    "print(estimator)\n",
    "\n",
    "#模型预测\n",
    "test_pred=estimator.predict(x_test)    #预测结果\n",
    "print(test_pred)\n",
    "\n",
    "#模型评估\n",
    "score=estimator.score(x_test,y_test)  #计算准确率\n",
    "print(f\"Accuracy={score*100}%\")  #Calculate accuracy"
   ]
  }
 ],
 "metadata": {
  "kernelspec": {
   "display_name": "Python 3.7.6 ('base')",
   "language": "python",
   "name": "python3"
  },
  "language_info": {
   "codemirror_mode": {
    "name": "ipython",
    "version": 3
   },
   "file_extension": ".py",
   "mimetype": "text/x-python",
   "name": "python",
   "nbconvert_exporter": "python",
   "pygments_lexer": "ipython3",
   "version": "3.7.6"
  },
  "orig_nbformat": 4,
  "vscode": {
   "interpreter": {
    "hash": "49cb93f377a7abe7414b7b0f21fb3017538004a126cf690fb524202736b7fb92"
   }
  }
 },
 "nbformat": 4,
 "nbformat_minor": 2
}
