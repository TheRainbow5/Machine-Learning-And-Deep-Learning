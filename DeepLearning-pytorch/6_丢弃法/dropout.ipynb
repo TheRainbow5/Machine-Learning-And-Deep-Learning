{
 "cells": [
  {
   "cell_type": "markdown",
   "metadata": {},
   "source": [
    "# 暂退法（dropout）\n",
    "    在前向传播得过程中，计算每一内部层的同时注入噪音\n",
    "在整个训练过程的每一次迭代中，标准暂退法包括在计算下一层之前将当前层中的一些节点置零。\n",
    "\n",
    "关键的挑战是如何注入这种噪音？一种想法是以一种**无偏差的方式**注入噪音。这样在固定住其他层时，每一层的期望值等于没有噪音时的值。\n",
    "\n",
    "<img src=\"picture\\1.png\"  width=\"400px\" />\n",
    "\n",
    "在一定概率下，变为0，一些数据变大，保证整体的数据期望不变。"
   ]
  },
  {
   "cell_type": "markdown",
   "metadata": {},
   "source": [
    "## 实践中的暂退法\n",
    "当我们将暂退法应用到隐藏层的，以p的概率将隐藏层的神经元置为零，结果可以看作是一个值包含原石神经元子集的网络。\n",
    "如下图，删除了h2和h5，因为输出的计算不再依赖于h2和h5，并且它们各自的梯度在执行反向传播时也会消失。\n",
    "<img src=\"picture\\2.jpg\"  width=\"700px\" />\n",
    "\n",
    "然而也有一些例外：一些研究人员在测试时使用暂退法，用于估计神经网络预测的“不确定性”： 如果通过许多不同的暂退法遮盖后得到的预测结果都是一致的，那么我们可以说网络发挥更稳定。\n"
   ]
  },
  {
   "cell_type": "markdown",
   "metadata": {},
   "source": [
    "## 总结\n",
    "* 丢弃法将一些输出项随机置0来空值模型的复杂度\n",
    "* 常作用在多层感知机的隐藏层输出上\n",
    "* 丢弃概率是控制模型复杂度的超参数"
   ]
  },
  {
   "cell_type": "markdown",
   "metadata": {},
   "source": [
    "## 实践环节\n",
    "我们从均匀分布的 U[0,1] 中抽样，样本数与这层神经网络的维度一致，然后我们保留那些对应样本大于p的节点，把剩下的丢弃。\n",
    "\n",
    "在下面的代码中，我们实现 dropout_layer 函数， 该函数以dropout的概率丢弃张量输入X中的元素， 如上所述重新缩放剩余部分：将剩余部分除以1.0-dropout。"
   ]
  },
  {
   "cell_type": "code",
   "execution_count": 1,
   "metadata": {},
   "outputs": [],
   "source": [
    "import torch\n",
    "import torchvision\n",
    "from torch import nn\n",
    "from torchvision import transforms\n",
    "from torch.utils  import data \n",
    "import matplotlib.pyplot as plt"
   ]
  },
  {
   "cell_type": "code",
   "execution_count": 2,
   "metadata": {},
   "outputs": [
    {
     "name": "stdout",
     "output_type": "stream",
     "text": [
      "tensor([[ 0.,  1.,  2.,  3.,  4.,  5.,  6.,  7.],\n",
      "        [ 8.,  9., 10., 11., 12., 13., 14., 15.]])\n",
      "tensor([[ 0.0000,  1.1111,  2.2222,  3.3333,  0.0000,  5.5556,  6.6667,  7.7778],\n",
      "        [ 8.8889, 10.0000, 11.1111, 12.2222, 13.3333, 14.4444, 15.5556, 16.6667]])\n",
      "tensor([[ 0.0000,  2.5000,  5.0000,  7.5000,  0.0000, 12.5000, 15.0000,  0.0000],\n",
      "        [20.0000,  0.0000,  0.0000,  0.0000, 30.0000, 32.5000, 35.0000,  0.0000]])\n"
     ]
    }
   ],
   "source": [
    "def dropout_layer(x,dropout):\n",
    "    assert 0<= dropout <=1   #True继续执行下面的程序，反之，异常结束程序\n",
    "    #全部神经元丢弃\n",
    "    if dropout==1:  \n",
    "        return torch.zeros_like(x)  #全部为0\n",
    "    #所有神经元保留\n",
    "    if dropout==0:\n",
    "        return x\n",
    "    '''\n",
    "    torch.rand(x.shape):0~1之间的均匀分布\n",
    "    torch.rand(x.shape)>dropout:返回一个True和False的数据\n",
    "    (torch.rand(x.shape)>dropout).float():将True和False转为1和0\n",
    "    '''\n",
    "    mask=(torch.rand(x.shape)>dropout).float() \n",
    "    return mask*x/(1-dropout)  #返回dropout后的数据\n",
    "\n",
    "x=torch.arange(16,dtype=torch.float32).reshape((2,8))\n",
    "print(x)\n",
    "print(dropout_layer(x,0.1))\n",
    "print(dropout_layer(x,0.6))\n"
   ]
  },
  {
   "cell_type": "markdown",
   "metadata": {},
   "source": [
    "### 定义参数"
   ]
  },
  {
   "cell_type": "code",
   "execution_count": 3,
   "metadata": {},
   "outputs": [],
   "source": [
    "batch_size=64\n",
    "resize=40  #图片像素\n",
    "num_epochs=20\n",
    "inputs_shape,outputs_shape,hiddens1,hiddens2=28*28,10,256,120\n",
    "dropout1=0.2\n",
    "dropout2=0.4\n",
    "lr=0.1"
   ]
  },
  {
   "cell_type": "markdown",
   "metadata": {},
   "source": [
    "### 数据集"
   ]
  },
  {
   "cell_type": "code",
   "execution_count": 4,
   "metadata": {},
   "outputs": [],
   "source": [
    "def load_data(batch_size,resize=None):\n",
    "    # 通过ToTensor实例将图像数据从PIL类型变换成32位浮点数格式，\n",
    "    # 并除以255使得所有像素的数值均在0到1之间\n",
    "    trans =[transforms.ToTensor()]\n",
    "    #修改图片大小\n",
    "    if resize:\n",
    "        trans.insert(0,transforms.Resize(resize)) \n",
    "    trans=transforms.Compose(trans)\n",
    "    #下载训练数据\n",
    "    mnist_train = torchvision.datasets.FashionMNIST(\n",
    "        root=\"datasets\",  #保存的目录\n",
    "        train=True,       #下载的是训练数据集\n",
    "        transform=trans,   #得到的是pytorch的tensor，而不是图片\n",
    "        download=True)  #从网上下载\n",
    "    #下载测试数据\n",
    "    mnist_test = torchvision.datasets.FashionMNIST(\n",
    "        root=\"datasets\", train=False, transform=trans, download=True)\n",
    "    #装载数据集\n",
    "    train_iter=data.DataLoader(dataset=mnist_train,\n",
    "                                batch_size=batch_size,\n",
    "                                shuffle=True)   #数据是否打乱\n",
    "    test_iter=data.DataLoader(dataset=mnist_test,\n",
    "                                        batch_size=64,\n",
    "                                        shuffle=True)\n",
    "    #返回训练集和测试集\n",
    "    return train_iter,test_iter\n",
    "\n",
    "train_iter,test_iter=load_data(batch_size=batch_size,resize=None)"
   ]
  },
  {
   "cell_type": "markdown",
   "metadata": {},
   "source": [
    "### 定义模型\n",
    "    下面的模型将第一个和第二个隐藏层的暂退概率分别设置为0.2和0.5， 并且暂退法只在训练期间有效。 \n",
    "\n"
   ]
  },
  {
   "cell_type": "code",
   "execution_count": 5,
   "metadata": {},
   "outputs": [],
   "source": [
    "net = nn.Sequential(\n",
    "        nn.Flatten(),\n",
    "        nn.Linear(inputs_shape,hiddens1),\n",
    "        nn.ReLU(),\n",
    "        # 在第一个全连接层之后添加一个dropout层\n",
    "        nn.Dropout(dropout1),\n",
    "        nn.Linear(hiddens1,hiddens2),\n",
    "        nn.ReLU(),\n",
    "        # 在第二个全连接层之后添加一个dropout层\n",
    "        nn.Dropout(dropout2),\n",
    "        nn.Linear(hiddens2,outputs_shape))\n",
    "\n",
    "def init_weights(m):\n",
    "    if type(m) == nn.Linear:\n",
    "        nn.init.normal_(m.weight, std=0.01)\n",
    "net.apply(init_weights)  #初始化w\n",
    "\n",
    "loss=torch.nn.CrossEntropyLoss()  #交叉熵\n",
    "optimizer=torch.optim.SGD(net.parameters(),lr=lr)"
   ]
  },
  {
   "cell_type": "code",
   "execution_count": 6,
   "metadata": {},
   "outputs": [],
   "source": [
    "'''定义预测准确率函数'''\n",
    "def acc(y_hat,y):\n",
    "    '''\n",
    "    :param y_hat: 接收二维张量，例如 torch.tensor([[1], [0]...])\n",
    "    :param y: 接收二维张量，例如 torch.tensor([[0.1, 0.2, 0.7], [0.8, 0.1, 0.1]...]) 三分类问题\n",
    "    :return:\n",
    "    '''\n",
    "    y_hat=y_hat.argmax(axis=1)\n",
    "    cmp=y_hat.type(y.dtype)==y  #数据类型是否相同\n",
    "    return float(cmp.type(y.dtype).sum())\n",
    "    \n",
    "class Accumulator():\n",
    "    ''' 对评估的正确数量和总数进行累加 '''\n",
    "    def __init__(self, n):\n",
    "        self.data = [0.0] * n\n",
    "\n",
    "    def add(self, *args):\n",
    "        self.data = [a + float(b) for a, b in zip(self.data, args)]\n",
    "\n",
    "    def reset(self):\n",
    "        self.data = [0.0] * len(self.data)\n",
    "\n",
    "    def __getitem__(self, item):\n",
    "        return self.data[item]\n",
    "\n",
    "'''自定义每个批次训练函数'''\n",
    "def train_epoch_cha3(net,train_iter,loss,optimizer):\n",
    "    #判断是不是pytorch得model，如果是，就打开训练模式，pytorch得训练模式默认开启梯度更新\n",
    "    if isinstance(net,torch.nn.Module):\n",
    "        net.train()\n",
    "    #创建样本累加器【累加每批次的损失值、样本预测正确的个数、样本总数】\n",
    "    metric = Accumulator(3)  \n",
    "    for x,y in train_iter:\n",
    "        #前向传播获取预测结果\n",
    "        y_hat=net(x)\n",
    "        #计算损失\n",
    "        l=loss(y_hat,y) \n",
    "        #判断是pytorch自带得方法还是我们手写得方法（根据不同得方法有不同得处理方式）\n",
    "        if isinstance(optimizer,torch.optim.Optimizer):\n",
    "            #梯度清零\n",
    "            optimizer.zero_grad()\n",
    "            #损失之求和，反向传播（pytorch自动进行了损失值计算）\n",
    "            l.backward()\n",
    "            #更新梯度\n",
    "            optimizer.step()\n",
    "            #累加个参数\n",
    "            metric.add(\n",
    "                float(l)*len(y),  #损失值总数\n",
    "                acc(y_hat,y),     #计算预测正确得总数\n",
    "                y.size().numel()  #样本总数\n",
    "            )\n",
    "    #返回平均损失值，预测正确得概率\n",
    "    return metric[0]/metric[2],metric[1]/metric[2]    \n",
    "\n",
    "'''模型测试'''\n",
    "def test_cha3(net,test_iter):\n",
    "    if isinstance(net,torch.nn.Module):\n",
    "        net.eval()  #将模型设置为评估模式\n",
    "    metric=Accumulator(2)\n",
    "    for x,y in test_iter:\n",
    "        metric.add(\n",
    "            acc(net(x),y),  #计算准确个数\n",
    "            y.numel()  #测试样本总数\n",
    "        )\n",
    "    #返回模型得准确率\n",
    "    print(f\"test_acc={metric[0]/metric[1]:.2f}%\")\n",
    "    return metric[0]/metric[1]\n",
    "\n",
    "'''正式训练'''\n",
    "def train_cha3(num_epochs,net,train_iter,test_iter,loss,optimizer):\n",
    "    loss_list=[]\n",
    "    train_acc=[]\n",
    "    test_acc=[]\n",
    "    for epoch in range(num_epochs):\n",
    "        #计算训练数据的平均损失值和正确率\n",
    "        train_metrics=train_epoch_cha3(net,train_iter,loss,optimizer)\n",
    "        loss_list.append(train_metrics[0])  #保存loss\n",
    "        train_acc.append(train_metrics[1])   #保存准确率\n",
    "        #计算验证集的准确率\n",
    "        test_metrics=test_cha3(net,test_iter)\n",
    "        test_acc.append(test_metrics)\n",
    "        print(f\"epoch{epoch+1}:loss={train_metrics[0]},train_acc={train_metrics[1]*100:.2f}%,test_acc={test_metrics:.2f}%\")\n",
    "                \n",
    "    return loss_list,train_acc,test_acc\n",
    "\n"
   ]
  },
  {
   "cell_type": "code",
   "execution_count": 7,
   "metadata": {},
   "outputs": [
    {
     "name": "stdout",
     "output_type": "stream",
     "text": [
      "test_acc=0.75%\n",
      "epoch1:loss=1.0914979624112446,                train_acc=58.02%,                test_acc=0.75%\n",
      "test_acc=0.83%\n",
      "epoch2:loss=0.5482586855332057,                train_acc=80.36%,                test_acc=0.83%\n",
      "test_acc=0.83%\n",
      "epoch3:loss=0.46197353811264036,                train_acc=83.50%,                test_acc=0.83%\n",
      "test_acc=0.85%\n",
      "epoch4:loss=0.42457290778160095,                train_acc=84.72%,                test_acc=0.85%\n",
      "test_acc=0.85%\n",
      "epoch5:loss=0.39619792211850485,                train_acc=85.83%,                test_acc=0.85%\n",
      "test_acc=0.86%\n",
      "epoch6:loss=0.3790158767700195,                train_acc=86.30%,                test_acc=0.86%\n",
      "test_acc=0.86%\n",
      "epoch7:loss=0.36437876521746315,                train_acc=86.85%,                test_acc=0.86%\n",
      "test_acc=0.84%\n",
      "epoch8:loss=0.3529577074686686,                train_acc=87.16%,                test_acc=0.84%\n",
      "test_acc=0.86%\n",
      "epoch9:loss=0.3408116963624954,                train_acc=87.57%,                test_acc=0.86%\n",
      "test_acc=0.85%\n",
      "epoch10:loss=0.3329598733027776,                train_acc=87.92%,                test_acc=0.85%\n",
      "test_acc=0.87%\n",
      "epoch11:loss=0.3248775647719701,                train_acc=88.25%,                test_acc=0.87%\n",
      "test_acc=0.87%\n",
      "epoch12:loss=0.31511500902175904,                train_acc=88.38%,                test_acc=0.87%\n",
      "test_acc=0.88%\n",
      "epoch13:loss=0.30937534215450285,                train_acc=88.75%,                test_acc=0.88%\n",
      "test_acc=0.87%\n",
      "epoch14:loss=0.30262298998832704,                train_acc=88.83%,                test_acc=0.87%\n",
      "test_acc=0.88%\n",
      "epoch15:loss=0.29816682581106824,                train_acc=88.98%,                test_acc=0.88%\n",
      "test_acc=0.87%\n",
      "epoch16:loss=0.29209949363867443,                train_acc=89.27%,                test_acc=0.87%\n",
      "test_acc=0.87%\n",
      "epoch17:loss=0.2855703694820404,                train_acc=89.53%,                test_acc=0.87%\n",
      "test_acc=0.88%\n",
      "epoch18:loss=0.28314654207229617,                train_acc=89.60%,                test_acc=0.88%\n",
      "test_acc=0.88%\n",
      "epoch19:loss=0.2772951636314392,                train_acc=89.71%,                test_acc=0.88%\n",
      "test_acc=0.88%\n",
      "epoch20:loss=0.27228352295557656,                train_acc=89.91%,                test_acc=0.88%\n"
     ]
    }
   ],
   "source": [
    "loss_list,train_acc,test_acc=train_cha3(num_epochs,net,train_iter,test_iter,loss,optimizer)"
   ]
  },
  {
   "cell_type": "code",
   "execution_count": 8,
   "metadata": {},
   "outputs": [],
   "source": [
    "def draw():\n",
    "    fig,ax=plt.subplots()   #定义画布\n",
    "    ax.grid(True)          #添加网格\n",
    "    ax.set_xlabel(\"epoch\")\n",
    "    ax.set_ylim(0,1)\n",
    "\n",
    "    ax.plot(range(num_epochs),loss_list,label=\"loss\")\n",
    "    ax.plot(range(num_epochs),train_acc,dashes=[6, 2],label=\"train\")\n",
    "    ax.plot(range(num_epochs),test_acc,dashes=[6, 2],label=\"test\")\n",
    "    ax.legend()\n",
    "    plt.show()"
   ]
  },
  {
   "cell_type": "code",
   "execution_count": 9,
   "metadata": {},
   "outputs": [
    {
     "data": {
      "image/png": "[encoded data removed]",
      "text/plain": [
       "<Figure size 432x288 with 1 Axes>"
      ]
     },
     "metadata": {
      "needs_background": "light"
     },
     "output_type": "display_data"
    }
   ],
   "source": [
    "draw()"
   ]
  }
 ],
 "metadata": {
  "kernelspec": {
   "display_name": "Python 3.7.6 ('base')",
   "language": "python",
   "name": "python3"
  },
  "language_info": {
   "codemirror_mode": {
    "name": "ipython",
    "version": 3
   },
   "file_extension": ".py",
   "mimetype": "text/x-python",
   "name": "python",
   "nbconvert_exporter": "python",
   "pygments_lexer": "ipython3",
   "version": "3.7.6"
  },
  "orig_nbformat": 4,
  "vscode": {
   "interpreter": {
    "hash": "49cb93f377a7abe7414b7b0f21fb3017538004a126cf690fb524202736b7fb92"
   }
  }
 },
 "nbformat": 4,
 "nbformat_minor": 2
}
