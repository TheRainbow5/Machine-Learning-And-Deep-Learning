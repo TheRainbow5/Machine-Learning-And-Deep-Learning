{
 "cells": [
  {
   "cell_type": "markdown",
   "metadata": {},
   "source": [
    "# 语言模型和数据集\n",
    "\n",
    "在**文本序列预处理中**中，我们了解了如何将文本数据映射为词元，以及将这些词元可以视为一系列离散的观测。\n",
    "\n",
    "例如单词或字符。\n",
    "假设长度为$T$的文本序列中的词元依次为$x_1, x_2, \\ldots, x_T$。\n",
    "于是，$x_t$（$1 \\leq t \\leq T$）\n",
    "可以被认为是文本序列在时间步$t$处的观测或标签。\n",
    "在给定这样的文本序列时，*语言模型*（language model）的**目标是估计序列的联合概率**\n",
    "$$P(x_1, x_2, \\ldots, x_T).$$\n",
    "\n",
    "例如，只需要一次抽取一个词元$x_t \\sim P(x_t \\mid x_{t-1}, \\ldots, x_1)$，\n",
    "一个理想的语言模型就能够基于模型本身生成自然文本。\n",
    "与猴子使用打字机完全不同的是，从这样的模型中提取的文本\n",
    "都将作为自然语言（例如，英语文本）来传递。\n",
    "只需要基于前面的对话片断中的文本，\n",
    "就足以生成一个有意义的对话。\n",
    "显然，我们离设计出这样的系统还很遥远，\n",
    "因为它需要“理解”文本，而不仅仅是生成语法合理的内容。\n",
    "\n",
    "尽管如此，语言模型依然是非常有用的。\n",
    "例如，短语“to recognize speech”和“to wreck a nice beach”读音上听起来非常相似。\n",
    "这种相似性会导致语音识别中的歧义，但是这很容易通过语言模型来解决，\n",
    "因为第二句的语义很奇怪。\n",
    "同样，在文档摘要生成算法中，\n",
    "“狗咬人”比“人咬狗”出现的频率要高得多，\n",
    "或者“我想吃奶奶”是一个相当匪夷所思的语句，\n",
    "而“我想吃，奶奶”则要正常得多。"
   ]
  },
  {
   "cell_type": "markdown",
   "metadata": {},
   "source": [
    "## 马尔可夫模型与$n$元语法\n",
    "\n",
    "在讨论包含深度学习的解决方案之前，我们需要了解更多的概念和术语。\n",
    "回想一下我们在 :numref:`sec_sequence`中对马尔可夫模型的讨论，\n",
    "并且将其应用于语言建模。\n",
    "如果$P(x_{t+1} \\mid x_t, \\ldots, x_1) = P(x_{t+1} \\mid x_t)$，\n",
    "则序列上的分布满足一阶马尔可夫性质。\n",
    "阶数越高，对应的依赖关系就越长。\n",
    "这种性质推导出了许多可以应用于序列建模的近似公式：\n",
    "\n",
    "$$\n",
    "\\begin{aligned}\n",
    "P(x_1, x_2, x_3, x_4) &=  P(x_1) P(x_2) P(x_3) P(x_4),\\\\\n",
    "P(x_1, x_2, x_3, x_4) &=  P(x_1) P(x_2  \\mid  x_1) P(x_3  \\mid  x_2) P(x_4  \\mid  x_3),\\\\\n",
    "P(x_1, x_2, x_3, x_4) &=  P(x_1) P(x_2  \\mid  x_1) P(x_3  \\mid  x_1, x_2) P(x_4  \\mid  x_2, x_3).\n",
    "\\end{aligned}\n",
    "$$\n",
    "\n",
    "通常，涉及一个、两个和三个变量的概率公式分别被称为\n",
    "“一元语法”（unigram）、“二元语法”（bigram）和“三元语法”（trigram）模型。\n",
    "\n",
    "<img src=\"pic\\5.jpg\" width=500/>\n",
    "\n",
    "<img src=\"pic\\6.jpg\" width=500/>\n",
    "\n",
    "下面，我们将学习如何去设计更好的模型。\n",
    "\n",
    "## 自然语言统计\n",
    "\n",
    "我们看看在真实数据上如果进行自然语言统计。\n",
    "根据 :numref:`sec_text_preprocessing`中介绍的时光机器数据集构建词表，\n",
    "并打印前$10$个最常用的（频率最高的）单词。\n"
   ]
  },
  {
   "cell_type": "code",
   "execution_count": 1,
   "metadata": {},
   "outputs": [],
   "source": [
    "import torch \n",
    "import random\n",
    "from d2l import torch as d2l\n",
    "import re\n",
    "from itertools import count\n",
    "import collections"
   ]
  },
  {
   "cell_type": "markdown",
   "metadata": {},
   "source": [
    "## 读取数据集\n",
    "首先，我们从H.G.Well的[时光机器](https://www.gutenberg.org/ebooks/35)中加载文本。\n",
    "这是一个相当小的语料库，只有30000多个单词，但足够我们小试牛刀，\n",
    "而现实中的文档集合可能会包含数十亿个单词。\n",
    "下面的函数(**将数据集读取到由多条文本行组成的列表中**)，其中每条文本行都是一个字符串。\n",
    "为简单起见，我们在这里忽略了标点符号和字母大写。"
   ]
  },
  {
   "cell_type": "code",
   "execution_count": 2,
   "metadata": {},
   "outputs": [
    {
     "data": {
      "text/plain": [
       "[('the', 2261),\n",
       " ('i', 1267),\n",
       " ('and', 1245),\n",
       " ('of', 1155),\n",
       " ('a', 816),\n",
       " ('to', 695),\n",
       " ('was', 552),\n",
       " ('in', 541),\n",
       " ('that', 443),\n",
       " ('my', 440)]"
      ]
     },
     "execution_count": 2,
     "metadata": {},
     "output_type": "execute_result"
    }
   ],
   "source": [
    "#@save下载数据集\n",
    "#d2l.DATA_HUB['time_machine'] = (d2l.DATA_URL + 'timemachine.txt',\n",
    "#                                '090b5e7e70c295757f55df93cb0a180b9691891a')\n",
    "def read_time_machine():  #@save\n",
    "    \"\"\"将时间机器数据集加载到文本行的列表中\"\"\"\n",
    "    with open(\"data\\\\timemachine.txt\", 'r') as f:\n",
    "        lines = f.readlines()\n",
    "    #对文本进行分词处理\n",
    "    return [re.sub('[^A-Za-z]+', ' ', line).strip().lower() for line in lines]  \n",
    "#词元话\n",
    "def tokenize(lines,token=\"word\"):\n",
    "    '''将文本行拆分为单词或字符词源'''\n",
    "    if token==\"word\":\n",
    "        return [line.split() for line in lines]\n",
    "    elif token==\"char\":\n",
    "        return [list(line) for line in lines]\n",
    "    else:\n",
    "        print(\"错误，未知词源类型,\"+token)\n",
    "lines= read_time_machine()\n",
    "tokens=tokenize(lines)\n",
    "#因为每个文本行不一定是一个句子或一个段落，因此我们把所有文本行拼接到一起\n",
    "corpus=[token for line in tokens for token in line]\n",
    "#构建词表\n",
    "class Vocab():\n",
    "    '''文本词汇表\n",
    "    min_freq：如果一个词出现的频率<min_freq，则放入不认识的token中\n",
    "    reserved_tokens：句子的开头token，或者结尾token\n",
    "    '''\n",
    "    def __init__(self,tokens=None,min_freq=0,reserved_tokens=None):\n",
    "        #如果没有token则为空列表\n",
    "        if tokens is None:\n",
    "            tokens=[]\n",
    "        if reserved_tokens is None:\n",
    "            reserved_tokens=[]\n",
    "        counter=count_corpus(tokens)  #计算每个token出现的次数（词频统计）\n",
    "        #对词典更具词频进行降序排序，返回token和freq（词频数）,\n",
    "        self.token_freqs=sorted(counter.items(),key=lambda x:x[1],reverse=True)\n",
    "        #unk：位置的token  uniq_tokens：定义token是开头或结尾   \n",
    "        self.unk,uniq_tokens=0,[\"<unk>\"]+reserved_tokens\n",
    "        #只存储词，舍去freq<min_freq的词，并且不是位置词汇\n",
    "        uniq_tokens+=[token for token,freq in self.token_freqs\n",
    "                    if freq >=min_freq and token not in uniq_tokens]\n",
    "        #给你索引转为token保存在列表中，给你token转为索引（不是词频）保存在字典中\n",
    "        self.idx_to_token,self.token_to_idx=[],dict()\n",
    "        for token in uniq_tokens:\n",
    "            self.idx_to_token.append(token)\n",
    "            self.token_to_idx[token]=len(self.idx_to_token)-1\n",
    "\n",
    "    #一共有多少个token  \n",
    "    def __len__(self):\n",
    "        return len(self.idx_to_token)\n",
    "    #给你token返回index\n",
    "    def __getitem__(self,tokens):\n",
    "        #判断\n",
    "        if not isinstance(tokens,(list,tuple)):\n",
    "            return self.token_to_idx.get(tokens,self.unk)\n",
    "        return [self.__getitem__(token) for token in tokens]\n",
    "    #给你index，返回token\n",
    "    def to_tokens(self,indices):\n",
    "        if not isinstance(indices,(list,tuple)):\n",
    "            return self.idx_to_token[indices]\n",
    "        return [self.idx_to_token[index] for index in indices]\n",
    "def count_corpus(tokens):  #@save\n",
    "    \"\"\"统计词元的频率\"\"\"\n",
    "    # 这里的tokens是1D列表或2D列表\n",
    "    if len(tokens) == 0 or isinstance(tokens[0], list):\n",
    "        # 将词元列表展平成一个列表\n",
    "        tokens = [token for line in tokens for token in line]\n",
    "    return collections.Counter(tokens)\n",
    "\n",
    "vocab = Vocab(corpus)\n",
    "vocab.token_freqs[:10]  #词频数"
   ]
  },
  {
   "cell_type": "markdown",
   "metadata": {},
   "source": [
    "正如我们所看到的，(**最流行的词**)看起来很无聊，\n",
    "这些词通常(**被称为*停用词***)（stop words），因此可以被过滤掉。\n",
    "尽管如此，它们本身仍然是有意义的，我们仍然会在模型中使用它们。\n",
    "\n",
    "此外，还有个明显的问题是词频衰减的速度相当地快。\n",
    "例如，最常用单词的词频对比，第$10$个还不到第$1$个的$1/5$。\n",
    "为了更好地理解，我们可以[**画出的词频图**]："
   ]
  },
  {
   "cell_type": "code",
   "execution_count": 3,
   "metadata": {},
   "outputs": [
    {
     "data": {
      "text/plain": [
       "<matplotlib.legend.Legend at 0x22b3d0b8688>"
      ]
     },
     "execution_count": 3,
     "metadata": {},
     "output_type": "execute_result"
    },
    {
     "data": {
      "image/png": "[encoded data removed]",
      "text/plain": [
       "<Figure size 432x288 with 1 Axes>"
      ]
     },
     "metadata": {
      "image/png": {
       "height": 263,
       "width": 387
      },
      "needs_background": "light"
     },
     "output_type": "display_data"
    }
   ],
   "source": [
    "import matplotlib.pyplot as plt\n",
    "%matplotlib inline\n",
    "%config InlineBackend.figure_format = 'retina'  #高清图像\n",
    "\n",
    "freqs=[freq for token,freq in vocab.token_freqs]  #词频数\n",
    "#可视化\n",
    "fig,ax=plt.subplots()  #创建窗口\n",
    "plt.grid()  #添加网格\n",
    "ax.loglog(freqs,dashes=[6, 2],label=\"unigram\")\n",
    "plt.xlabel(\"token x\")\n",
    "plt.ylabel(\"frequency :n(x)\")\n",
    "plt.legend()"
   ]
  },
  {
   "cell_type": "markdown",
   "metadata": {},
   "source": [
    "通过此图我们可以发现：词频以一种明确的方式迅速衰减。\n",
    "将前几个单词作为例外消除后，剩余的所有单词大致遵循双对数坐标图上的一条直线。\n",
    "这意味着单词的频率满足*齐普夫定律*（Zipf's law），\n",
    "即第$i$个最常用单词的频率$n_i$为：\n",
    "\n",
    "$$n_i \\propto \\frac{1}{i^\\alpha},$$\n",
    ":eqlabel:`eq_zipf_law`\n",
    "\n",
    "等价于\n",
    "\n",
    "$$\\log n_i = -\\alpha \\log i + c,$$\n",
    "\n",
    "其中$\\alpha$是刻画分布的指数，$c$是常数。\n",
    "这告诉我们想要通过计数统计和平滑来建模单词是不可行的，\n",
    "因为这样建模的结果会大大高估尾部单词的频率，也就是所谓的不常用单词。\n",
    "那么[**其他的词元组合，比如二元语法、三元语法等等，又会如何呢？**]\n",
    "我们来看看二元语法的频率是否与一元语法的频率表现出相同的行为方式。"
   ]
  },
  {
   "cell_type": "code",
   "execution_count": 4,
   "metadata": {},
   "outputs": [
    {
     "data": {
      "text/plain": [
       "[(('of', 'the'), 309),\n",
       " (('in', 'the'), 169),\n",
       " (('i', 'had'), 130),\n",
       " (('i', 'was'), 112),\n",
       " (('and', 'the'), 109),\n",
       " (('the', 'time'), 102),\n",
       " (('it', 'was'), 99),\n",
       " (('to', 'the'), 85),\n",
       " (('as', 'i'), 78),\n",
       " (('of', 'a'), 73)]"
      ]
     },
     "execution_count": 4,
     "metadata": {},
     "output_type": "execute_result"
    }
   ],
   "source": [
    "#二元语法\n",
    "bigram_tokens = [pair for pair in zip(corpus[:-1], corpus[1:])]\n",
    "bigram_vocab = Vocab(bigram_tokens)\n",
    "bigram_vocab.token_freqs[:10]"
   ]
  },
  {
   "cell_type": "markdown",
   "metadata": {},
   "source": [
    "这里值得注意：在十个最频繁的词对中，有九个是由两个停用词组成的，\n",
    "只有一个与“the time”有关。\n",
    "我们再进一步看看三元语法的频率是否表现出相同的行为方式。"
   ]
  },
  {
   "cell_type": "code",
   "execution_count": 5,
   "metadata": {},
   "outputs": [
    {
     "data": {
      "text/plain": [
       "[(('the', 'time', 'traveller'), 59),\n",
       " (('the', 'time', 'machine'), 30),\n",
       " (('the', 'medical', 'man'), 24),\n",
       " (('it', 'seemed', 'to'), 16),\n",
       " (('it', 'was', 'a'), 15),\n",
       " (('here', 'and', 'there'), 15),\n",
       " (('seemed', 'to', 'me'), 14),\n",
       " (('i', 'did', 'not'), 14),\n",
       " (('i', 'saw', 'the'), 13),\n",
       " (('i', 'began', 'to'), 13)]"
      ]
     },
     "execution_count": 5,
     "metadata": {},
     "output_type": "execute_result"
    }
   ],
   "source": [
    "#三元语法\n",
    "trigram_tokens = [pair for pair in zip(corpus[:-2],corpus[1:-1],corpus[2:])]\n",
    "trigram_vocab = Vocab(trigram_tokens)\n",
    "trigram_vocab.token_freqs[:10]"
   ]
  },
  {
   "cell_type": "markdown",
   "metadata": {},
   "source": [
    "最后，我们[**直观地对比三种模型中的词元频率**]：一元语法、二元语法和三元语法。"
   ]
  },
  {
   "cell_type": "code",
   "execution_count": 6,
   "metadata": {},
   "outputs": [
    {
     "name": "stdout",
     "output_type": "stream",
     "text": [
      "4579 20234 29882\n"
     ]
    },
    {
     "data": {
      "text/plain": [
       "<matplotlib.legend.Legend at 0x22b41306d48>"
      ]
     },
     "execution_count": 6,
     "metadata": {},
     "output_type": "execute_result"
    },
    {
     "data": {
      "image/png": "[encoded data removed]",
      "text/plain": [
       "<Figure size 432x288 with 1 Axes>"
      ]
     },
     "metadata": {
      "image/png": {
       "height": 263,
       "width": 387
      },
      "needs_background": "light"
     },
     "output_type": "display_data"
    }
   ],
   "source": [
    "bigram_freqs=[freq for token,freq in bigram_vocab.token_freqs]\n",
    "trigram_freqs=[freq for token,freq in trigram_vocab.token_freqs]\n",
    "print(len(freqs),len(bigram_freqs),len(trigram_freqs))\n",
    "#可视化\n",
    "fig,ax=plt.subplots()  #创建窗口\n",
    "plt.grid()  #添加网格\n",
    "ax.loglog(freqs,dashes=[6, 2],label=\"unigram\")\n",
    "ax.loglog(bigram_freqs,dashes=[6, 2],label=\"bigram\")\n",
    "ax.loglog(trigram_freqs,dashes=[6, 2],label=\"trigram\")\n",
    "plt.xlabel(\"token x\")\n",
    "plt.ylabel(\"frequency :n(x)\")\n",
    "plt.legend()"
   ]
  },
  {
   "cell_type": "markdown",
   "metadata": {},
   "source": [
    "这张图非常令人振奋！原因有很多：\n",
    "首先，除了一元语法词，单词序列似乎也遵循齐普夫定律，\n",
    "尽管公式 :eqref:`eq_zipf_law`中的指数$\\alpha$更小\n",
    "（指数的大小受序列长度的影响）。\n",
    "其次，词表中$n$元组的数量并没有那么大，这说明语言中存在相当多的结构，\n",
    "这些结构给了我们应用模型的希望。\n",
    "第三，很多$n$元组很少出现，这使得拉普拉斯平滑非常不适合语言建模。\n",
    "作为代替，我们将使用基于深度学习的模型。"
   ]
  },
  {
   "cell_type": "markdown",
   "metadata": {},
   "source": [
    "## 读取长序列数据\n",
    "\n",
    "由于序列数据本质上是连续的，因此我们在处理数据时需要解决这个问题。\n",
    "\n",
    "在 :numref:`sec_sequence`中我们以一种相当特别的方式做到了这一点：\n",
    "当序列变得太长而不能被模型一次性全部处理时，\n",
    "我们可能希望拆分这样的序列方便模型读取。\n",
    "\n",
    "在介绍该模型之前，我们看一下总体策略。\n",
    "假设我们将使用神经网络来训练语言模型，\n",
    "模型中的网络一次处理具有预定义长度\n",
    "（例如$n$个时间步）的一个小批量序列。\n",
    "现在的问题是如何[**随机生成一个小批量数据的特征和标签以供读取。**]\n",
    "\n",
    "首先，由于文本序列可以是任意长的，\n",
    "例如整本《时光机器》（*The Time Machine*），\n",
    "于是任意长的序列可以被我们划分为具有相同时间步数的子序列。\n",
    "当训练我们的神经网络时，这样的小批量子序列将被输入到模型中。\n",
    "假设网络一次只处理具有$n$个时间步的子序列。\n",
    " :numref:`fig_timemachine_5gram`画出了\n",
    "从原始文本序列获得子序列的所有不同的方式，\n",
    "其中$n=5$，并且每个时间步的词元对应于一个字符。\n",
    "请注意，因为我们可以选择任意偏移量来指示初始位置，所以我们有相当大的自由度。\n",
    "\n",
    "![分割文本时，不同的偏移量会导致不同的子序列]\n",
    "\n",
    "<img src=\"pic\\7.jpg\" width=500/>\n",
    "\n",
    ":label:`fig_timemachine_5gram`\n",
    "\n",
    "因此，我们应该从 :numref:`fig_timemachine_5gram`中选择哪一个呢？\n",
    "事实上，他们都一样的好。\n",
    "然而，如果我们只选择一个偏移量，\n",
    "那么用于训练网络的、所有可能的子序列的覆盖范围将是有限的。\n",
    "因此，我们可以从随机偏移量开始划分序列，\n",
    "以同时获得*覆盖性*（coverage）和*随机性*（randomness）。\n",
    "下面，我们将描述如何实现*随机采样*（random sampling）和\n",
    "*顺序分区*（sequential partitioning）策略。"
   ]
  },
  {
   "cell_type": "markdown",
   "metadata": {},
   "source": [
    "## 随机采样\n",
    "    自然语言数据可以看成一种特殊的时间序列数据。对于这种时序数据的采样主要有有随机采样和相邻采样两种方式。两者都需要确定一个batch的样本数量batch_size和每个样本的时间步长num_steps。\n",
    "\n",
    "步骤：语料库corpus_indices的长度为n，首先按照时间步长确定可能的样本的起始索引，可能的样本起始索引最后被随机打散。\n",
    "\n",
    "这里注意：采样的单个样本的最后一个单词不可能是序列的最后一个字（否则，就没有输入子序列所对应的输出子序列）\n",
    "\n",
    "如图所示：对于一个长度为32序列0,1,2,…,31，时间步长取4，batch大小取3时，有效长度只有28。\n",
    "<img src=\"pic\\8.png\" width=600/>\n",
    "\n",
    "下面的代码每次可以从数据中随机生成一个小批量。 在这里，参数batch_size指定了每个小批量中子序列样本的数目， 参数num_steps是每个子序列中预定义的时间步数。"
   ]
  },
  {
   "cell_type": "code",
   "execution_count": 7,
   "metadata": {},
   "outputs": [],
   "source": [
    "def seq_data_iter_random(corpus, batch_size, num_steps):  #@save\n",
    "    \"\"\"使用随机抽样生成一个小批量子序列\"\"\"\n",
    "    # 从随机偏移量开始对序列进行分区，随机范围包括num_steps-1\n",
    "    #corpus = corpus[random.randint(0, num_steps - 1):]\n",
    "    \n",
    "    # 减去1，是因为我们需要考虑标签\n",
    "    num_subseqs = (len(corpus) - 1) // num_steps  #一共可以生成多少子序列\n",
    "    # 长度为num_steps的子序列的起始索引\n",
    "    initial_indices = list(range(0, num_subseqs * num_steps, num_steps))\n",
    "    # 在随机抽样的迭代过程中，\n",
    "    # 来自两个相邻的、随机的、小批量中的子序列不一定在原始序列上相邻\n",
    "    random.shuffle(initial_indices)\n",
    "    def data(pos):\n",
    "        # 返回从pos位置开始的长度为num_steps的序列\n",
    "        return corpus[pos: pos + num_steps]\n",
    "\n",
    "    num_batches = num_subseqs // batch_size   #batche的个数\n",
    "\n",
    "    for i in range(0,num_batches*batch_size, batch_size):\n",
    "        # 每次选出batch_size个随机样本\n",
    "        initial_indices_per_batch = initial_indices[i: i + batch_size]\n",
    "        x = [data(j) for j in initial_indices_per_batch]    #序列\n",
    "        y = [data(j + 1) for j in initial_indices_per_batch]  #二元语法\n",
    "        yield torch.tensor(x), torch.tensor(y)"
   ]
  },
  {
   "cell_type": "markdown",
   "metadata": {},
   "source": [
    "下面我们[**生成一个从$0$到$34$的序列**]。\n",
    "假设批量大小为$2$，时间步数为$5$，这意味着可以生成\n",
    "$\\lfloor (35 - 1) / 5 \\rfloor= 6$个“特征－标签”子序列对。\n",
    "如果设置小批量大小为$2$，我们只能得到$3$个小批量。"
   ]
  },
  {
   "cell_type": "code",
   "execution_count": 8,
   "metadata": {},
   "outputs": [
    {
     "name": "stdout",
     "output_type": "stream",
     "text": [
      "X:  tensor([[ 0,  1,  2,  3,  4],\n",
      "        [25, 26, 27, 28, 29]]) \n",
      "Y: tensor([[ 1,  2,  3,  4,  5],\n",
      "        [26, 27, 28, 29, 30]])\n",
      "X:  tensor([[15, 16, 17, 18, 19],\n",
      "        [20, 21, 22, 23, 24]]) \n",
      "Y: tensor([[16, 17, 18, 19, 20],\n",
      "        [21, 22, 23, 24, 25]])\n",
      "X:  tensor([[10, 11, 12, 13, 14],\n",
      "        [ 5,  6,  7,  8,  9]]) \n",
      "Y: tensor([[11, 12, 13, 14, 15],\n",
      "        [ 6,  7,  8,  9, 10]])\n"
     ]
    }
   ],
   "source": [
    "my_seq = list(range(35))\n",
    "for X, Y in seq_data_iter_random(my_seq, batch_size=2, num_steps=5):\n",
    "    print('X: ', X, '\\nY:', Y)"
   ]
  },
  {
   "cell_type": "markdown",
   "metadata": {},
   "source": [
    "x表示序列，y表示预测的标签。\n",
    "\n",
    "例如，x的15预测y的16；x的15,16预测y的17；x的15,16,17预测y的18；一次类推。"
   ]
  },
  {
   "cell_type": "markdown",
   "metadata": {},
   "source": [
    "## 相邻采样\n",
    "在相邻采样中，相邻的两个随机小批量在原始序列上的位置相毗邻。\n",
    "\n",
    "先确定待采样的有效序列的长度，在按照batch_size对该有效序列进行均分，然后按照时间步长num_step对堆叠的子序列进行逐个采样。"
   ]
  },
  {
   "cell_type": "code",
   "execution_count": 9,
   "metadata": {},
   "outputs": [],
   "source": [
    "def seq_data_iter_sequential(corpus, batch_size, num_steps):  #@save\n",
    "    \"\"\"使用顺序分区生成一个小批量子序列\"\"\"\n",
    "    # 从随机偏移量开始划分序列\n",
    "    offset = random.randint(0, num_steps)\n",
    "    num_tokens = ((len(corpus) - offset - 1) // batch_size) * batch_size\n",
    "    Xs = torch.tensor(corpus[offset: offset + num_tokens])\n",
    "    Ys = torch.tensor(corpus[offset + 1: offset + 1 + num_tokens])\n",
    "    Xs, Ys = Xs.reshape(batch_size, -1), Ys.reshape(batch_size, -1)\n",
    "    num_batches = Xs.shape[1] // num_steps\n",
    "    for i in range(0, num_steps * num_batches, num_steps):\n",
    "        x = Xs[:, i: i + num_steps]\n",
    "        y = Ys[:, i: i + num_steps]\n",
    "        yield x, y"
   ]
  },
  {
   "cell_type": "code",
   "execution_count": 10,
   "metadata": {},
   "outputs": [
    {
     "name": "stdout",
     "output_type": "stream",
     "text": [
      "X:  tensor([[ 4,  5,  6,  7,  8],\n",
      "        [19, 20, 21, 22, 23]]) \n",
      "Y: tensor([[ 5,  6,  7,  8,  9],\n",
      "        [20, 21, 22, 23, 24]])\n",
      "X:  tensor([[ 9, 10, 11, 12, 13],\n",
      "        [24, 25, 26, 27, 28]]) \n",
      "Y: tensor([[10, 11, 12, 13, 14],\n",
      "        [25, 26, 27, 28, 29]])\n",
      "X:  tensor([[14, 15, 16, 17, 18],\n",
      "        [29, 30, 31, 32, 33]]) \n",
      "Y: tensor([[15, 16, 17, 18, 19],\n",
      "        [30, 31, 32, 33, 34]])\n"
     ]
    }
   ],
   "source": [
    "for X, Y in seq_data_iter_sequential(my_seq, batch_size=2, num_steps=5):\n",
    "    print('X: ', X, '\\nY:', Y)"
   ]
  },
  {
   "cell_type": "markdown",
   "metadata": {},
   "source": [
    "现在，我们[**将上面的两个采样函数包装到一个类中**]，\n",
    "以便稍后可以将其用作数据迭代器。\n"
   ]
  },
  {
   "cell_type": "code",
   "execution_count": 11,
   "metadata": {},
   "outputs": [],
   "source": [
    "#读取数据集\n",
    "def read_time_machine():  #@save\n",
    "    \"\"\"将时间机器数据集加载到文本行的列表中\"\"\"\n",
    "    with open(\"data\\\\timemachine.txt\", 'r') as f:\n",
    "        lines = f.readlines()\n",
    "    #对文本进行分词处理\n",
    "    return [re.sub('[^A-Za-z]+', ' ', line).strip().lower() for line in lines]\n",
    "#词元划分\n",
    "def tokenize(lines,token=\"word\"):\n",
    "    '''将文本行拆分为单词或字符词源'''\n",
    "    if token==\"word\":\n",
    "        return [line.split() for line in lines]\n",
    "    elif token==\"char\":\n",
    "        return [list(line) for line in lines]\n",
    "    else:\n",
    "        print(\"错误，未知词源类型,\"+token)\n",
    "#生成文本词汇表\n",
    "class Vocab():\n",
    "    '''文本词汇表\n",
    "    min_freq：如果一个词出现的频率<min_freq，则放入不认识的token中\n",
    "    reserved_tokens：句子的开头token，或者结尾token\n",
    "    '''\n",
    "    def __init__(self,tokens=None,min_freq=0,reserved_tokens=None):\n",
    "        #如果没有token则为空列表\n",
    "        if tokens is None:\n",
    "            tokens=[]\n",
    "        if reserved_tokens is None:\n",
    "            reserved_tokens=[]\n",
    "        counter=count_corpus(tokens)  #计算每个token出现的次数（词频统计）\n",
    "        #对词典更具词频进行排序，返回token和freq（词频数）\n",
    "        self.token_freqs=sorted(counter.items(),key=lambda x:x[1],reverse=True)\n",
    "        #unk：位置的token  uniq_tokens：定义token是开头或结尾   \n",
    "        self.unk,uniq_tokens=0,[\"<unk>\"]+reserved_tokens\n",
    "        #只存储词，舍去freq<min_freq的词，并且不是位置词汇\n",
    "        uniq_tokens+=[token for token,freq in self.token_freqs\n",
    "                    if freq >=min_freq and token not in uniq_tokens]\n",
    "        #给你索引转为token保存在列表中，给你token转为索引（不是词频）保存在字典中\n",
    "        self.idx_to_token,self.token_to_idx=[],dict()\n",
    "        for token in uniq_tokens:\n",
    "            self.idx_to_token.append(token)\n",
    "            self.token_to_idx[token]=len(self.idx_to_token)-1\n",
    "\n",
    "    #一共有多少个token  \n",
    "    def __len__(self):\n",
    "        return len(self.idx_to_token)\n",
    "    #给你token返回index\n",
    "    def __getitem__(self,tokens):\n",
    "        #判断\n",
    "        if not isinstance(tokens,(list,tuple)):\n",
    "            return self.token_to_idx.get(tokens,self.unk)\n",
    "        return [self.__getitem__(token) for token in tokens]\n",
    "    #给你index，返回token\n",
    "    def to_tokens(self,indices):\n",
    "        if not isinstance(indices,(list,tuple)):\n",
    "            return self.idx_to_token[indices]\n",
    "        return [self.idx_to_token[index] for index in indices]\n",
    "#统计词源频率       \n",
    "def count_corpus(tokens):  #@save\n",
    "    \"\"\"统计词元的频率\"\"\"\n",
    "    # 这里的tokens是1D列表或2D列表\n",
    "    if len(tokens) == 0 or isinstance(tokens[0], list):\n",
    "        # 将词元列表展平成一个列表\n",
    "        tokens = [token for line in tokens for token in line]\n",
    "    return collections.Counter(tokens)\n",
    "#词元索引列表和词表\n",
    "def load_corpus_time_machine(max_tokens=-1):  #@save\n",
    "    \"\"\"返回时光机器数据集的词元索引列表和词表\"\"\"\n",
    "    lines = read_time_machine()\n",
    "    tokens = tokenize(lines, 'char')\n",
    "    vocab = Vocab(tokens)\n",
    "    # 因为时光机器数据集中的每个文本行不一定是一个句子或一个段落，\n",
    "    # 所以将所有文本行展平到一个列表中\n",
    "    corpus = [vocab[token] for line in tokens for token in line]  #返回索引\n",
    "    #如果数据太大，限制大小，加快训练速度\n",
    "    if max_tokens > 0:\n",
    "        corpus = corpus[:max_tokens]\n",
    "    return corpus, vocab\n",
    "#随机抽样\n",
    "def seq_data_iter_random(corpus, batch_size, num_steps):  #@save\n",
    "    \"\"\"使用随机抽样生成一个小批量子序列\"\"\"\n",
    "    # 从随机偏移量开始对序列进行分区，随机范围包括num_steps-1\n",
    "    #corpus = corpus[random.randint(0, num_steps - 1):]\n",
    "    \n",
    "    # 减去1，是因为我们需要考虑标签\n",
    "    num_subseqs = (len(corpus) - 1) // num_steps  #一共可以生成多少子序列\n",
    "    # 长度为num_steps的子序列的起始索引\n",
    "    initial_indices = list(range(0, num_subseqs * num_steps, num_steps))\n",
    "    # 在随机抽样的迭代过程中，\n",
    "    # 来自两个相邻的、随机的、小批量中的子序列不一定在原始序列上相邻\n",
    "    random.shuffle(initial_indices)\n",
    "    def data(pos):\n",
    "        # 返回从pos位置开始的长度为num_steps的序列\n",
    "        return corpus[pos: pos + num_steps]\n",
    "\n",
    "    num_batches = num_subseqs // batch_size   #batche的个数\n",
    "\n",
    "    for i in range(0,num_batches*batch_size, batch_size):\n",
    "        # 每次选出batch_size个随机样本\n",
    "        initial_indices_per_batch = initial_indices[i: i + batch_size]\n",
    "        x = [data(j) for j in initial_indices_per_batch]    #序列\n",
    "        y = [data(j + 1) for j in initial_indices_per_batch]  #二元语法\n",
    "        yield torch.tensor(x), torch.tensor(y)\n",
    "#相邻抽样\n",
    "def seq_data_iter_sequential(corpus, batch_size, num_steps):  #@save\n",
    "    \"\"\"使用顺序分区生成一个小批量子序列\"\"\"\n",
    "    # 从随机偏移量开始划分序列\n",
    "    offset = random.randint(0, num_steps)\n",
    "    num_tokens = ((len(corpus) - offset - 1) // batch_size) * batch_size\n",
    "    Xs = torch.tensor(corpus[offset: offset + num_tokens])\n",
    "    Ys = torch.tensor(corpus[offset + 1: offset + 1 + num_tokens])\n",
    "    Xs, Ys = Xs.reshape(batch_size, -1), Ys.reshape(batch_size, -1)\n",
    "    num_batches = Xs.shape[1] // num_steps\n",
    "    for i in range(0, num_steps * num_batches, num_steps):\n",
    "        x = Xs[:, i: i + num_steps]\n",
    "        y = Ys[:, i: i + num_steps]\n",
    "        yield x, y \n",
    "#加载数据迭代器\n",
    "class SeqDataLoader:  #@save\n",
    "    \"\"\"加载序列数据的迭代器\n",
    "    max_tokens：如果数据集太大，截断数据集，加快训练\n",
    "    \"\"\"\n",
    "    def __init__(self, batch_size, num_steps, use_random_iter, max_tokens):\n",
    "        #如果是随机采样\n",
    "        if use_random_iter:\n",
    "            self.data_iter_fn = seq_data_iter_random\n",
    "        #相邻采样\n",
    "        else:\n",
    "            self.data_iter_fn = seq_data_iter_sequential\n",
    "        self.corpus, self.vocab =load_corpus_time_machine(max_tokens)\n",
    "        self.batch_size, self.num_steps = batch_size, num_steps\n",
    "\n",
    "    def __iter__(self):\n",
    "        #将数据传入\n",
    "        return self.data_iter_fn(self.corpus, self.batch_size, self.num_steps)"
   ]
  },
  {
   "cell_type": "markdown",
   "metadata": {},
   "source": [
    "[**最后，我们定义了一个函数`load_data_time_machine`，\n",
    "它同时返回数据迭代器和词表**]，\n",
    "因此可以与其他带有`load_data`前缀的函数\n",
    "（如 :numref:`sec_fashion_mnist`中定义的\n",
    "`d2l.load_data_fashion_mnist`）类似地使用。\n"
   ]
  },
  {
   "cell_type": "code",
   "execution_count": 12,
   "metadata": {},
   "outputs": [],
   "source": [
    "#迭代器和词表\n",
    "def load_data_time_machine(batch_size, num_steps,  #@save\n",
    "                           use_random_iter=False, max_tokens=10000):\n",
    "    \"\"\"返回时光机器数据集的迭代器和词表\"\"\"\n",
    "    data_iter = SeqDataLoader(batch_size, num_steps, use_random_iter, max_tokens)\n",
    "    return data_iter, data_iter.vocab"
   ]
  },
  {
   "cell_type": "code",
   "execution_count": 14,
   "metadata": {},
   "outputs": [
    {
     "name": "stdout",
     "output_type": "stream",
     "text": [
      "<__main__.SeqDataLoader object at 0x0000022B41D60488>\n"
     ]
    }
   ],
   "source": [
    "data_iter,data_iter_vocab=load_data_time_machine(batch_size=3, num_steps=5,  #@save\n",
    "                    use_random_iter=False, max_tokens=10000)\n",
    "for x in data_iter_vocab:\n",
    "    print(x)"
   ]
  },
  {
   "cell_type": "markdown",
   "metadata": {},
   "source": [
    "## 小结\n",
    "\n",
    "* 语言模型是自然语言处理的关键。\n",
    "* $n$元语法通过截断相关性，为处理长序列提供了一种实用的模型。\n",
    "* 长序列存在一个问题：它们很少出现或者从不出现。\n",
    "* 齐普夫定律支配着单词的分布，这个分布不仅适用于一元语法，还适用于其他$n$元语法。\n",
    "* 通过拉普拉斯平滑法可以有效地处理结构丰富而频率不足的低频词词组。\n",
    "* 读取长序列的主要方式是随机采样和顺序分区。在迭代过程中，后者可以保证来自两个相邻的小批量中的子序列在原始序列上也是相邻的。"
   ]
  }
 ],
 "metadata": {
  "kernelspec": {
   "display_name": "Python 3.7.6 ('base')",
   "language": "python",
   "name": "python3"
  },
  "language_info": {
   "codemirror_mode": {
    "name": "ipython",
    "version": 3
   },
   "file_extension": ".py",
   "mimetype": "text/x-python",
   "name": "python",
   "nbconvert_exporter": "python",
   "pygments_lexer": "ipython3",
   "version": "3.7.6"
  },
  "orig_nbformat": 4,
  "vscode": {
   "interpreter": {
    "hash": "49cb93f377a7abe7414b7b0f21fb3017538004a126cf690fb524202736b7fb92"
   }
  }
 },
 "nbformat": 4,
 "nbformat_minor": 2
}
