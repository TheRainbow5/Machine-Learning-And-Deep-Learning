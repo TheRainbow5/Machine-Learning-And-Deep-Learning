{
 "cells": [
  {
   "cell_type": "markdown",
   "metadata": {},
   "source": [
    "# 引言\n",
    "    残差神经网络(ResNet)是由微软研究院的何恺明、张祥雨、任少卿、孙剑等人提出的。ResNet 在2015 年的ILSVRC（ImageNet Large Scale Visual Recognition Challenge）中取得了冠军。残差神经网络的主要贡献是发现了“退化现象（Degradation）”，并针对退化现象发明了 “快捷连接（Shortcut connection）”，极大的消除了深度过大的神经网络训练困难问题。神经网络的“深度”首次突破了100层、最大的神经网络甚至超过了1000层。\n",
    "\n",
    "# 什么是ResNet？\n",
    "    ResNet是一种残差网络（由许多残差块组成），可以理解为一个子网络，这个子网络经过堆叠构成一个很深的网络。\n",
    "<img src=\"pic\\26.jpg\" width=\"500\"/>\n",
    "\n",
    "在2012年的ILSVRC挑战赛中，AlexNet取得了冠军，并且大幅度领先于第二名。由此引发了对AlexNet广泛研究，并让大家树立了一个信念——“越深网络准确率越高”。这个信念随着VGGNet、Inception v1、Inception v2、Inception v3不断验证、不断强化，得到越来越多的认可，但是，始终有一个问题无法回避，这个信念正确吗？\n",
    "\n",
    "# 为什么引入ResNet？\n",
    "\n",
    "通过实验，ResNet随着网络层不断的加深，模型的准确率先是不断的提高，达到最大值（准确率饱和），然后随着网络深度的继续增加，模型准确率毫无征兆的出现大幅度的降低。\n",
    "\n",
    "<img src=\"pic\\27.jpg\" width=\"300\"/>\n",
    "\n",
    "<img src=\"pic\\29.jpg\" width=\"500\" />\n",
    "\n",
    "如果一个模型够简单，那么可能值需要F1范围的东西。往往我们可以加更多层（到F6），使得模型能够学习到更大的东西。如上图，F3模型到目标的距离比F6模型更小，虽然F6的模型更加的复杂，但是实际上可能学偏了，这就是模型偏差。\n",
    "\n",
    "## 那应该如何解决这个问题呢？（核心思想）\n",
    "* 在每个模型中包含前面的模型，如图下侧所示\n",
    "## 残差块\n",
    "\n",
    "<img src=\"pic\\30.jpg\" width=\"500\"/>\n",
    "\n",
    "ResNet沿用了VGG完整3x3的卷积层设计。 \n",
    "\n",
    "残差块里首先有2个有相同输出通道数3x3的卷积层。 \n",
    "\n",
    "每个卷积层后接一个批量规范化层和ReLU激活函数。 \n",
    "\n",
    "然后我们通过跨层数据通路，跳过这2个卷积运算，将输入直接加在最后的ReLU激活函数前。\n",
    "\n",
    " **这样的设计要求2个卷积层的输出与输入形状一样，从而使它们可以相加**。 如果想改变通道数，就需要引入一个额外1x1的卷积层来将输入变换成需要的形状后再做相加运算\n"
   ]
  },
  {
   "cell_type": "code",
   "execution_count": 2,
   "metadata": {},
   "outputs": [],
   "source": [
    "import torch\n",
    "import torch\n",
    "from torchvision import transforms\n",
    "from  torch.utils import data \n",
    "import torchvision\n",
    "import matplotlib.pyplot as plt"
   ]
  },
  {
   "cell_type": "code",
   "execution_count": 3,
   "metadata": {},
   "outputs": [
    {
     "name": "stdout",
     "output_type": "stream",
     "text": [
      "input_shape: torch.Size([4, 3, 6, 6])\n",
      "output_shape: torch.Size([4, 3, 6, 6])\n"
     ]
    }
   ],
   "source": [
    "class Resnet(torch.nn.Module):\n",
    "    '''输入通道和输出通道相同，才能保证和输入数据相加'''\n",
    "    def __init__(self,input_channels,num_channels,\n",
    "                    use_1conv=False,stride=1):\n",
    "        super().__init__()\n",
    "        self.conv1=torch.nn.Conv2d(input_channels,num_channels,kernel_size=3,padding=1,stride=stride)\n",
    "        self.conv2=torch.nn.Conv2d(num_channels,num_channels,kernel_size=3,padding=1)\n",
    "        #如果向改变通道数，使用1X1的卷积层来变换通道数\n",
    "        if use_1conv:  \n",
    "            self.conv3=torch.nn.Conv2d(input_channels,num_channels,kernel_size=1,stride=stride)\n",
    "        else:\n",
    "            self.conv3=None\n",
    "        #批量规范化  防止梯度爆炸或者消失\n",
    "        self.bn1=torch.nn.BatchNorm2d(num_channels)\n",
    "        self.bn2=torch.nn.BatchNorm2d(num_channels)\n",
    "        #激活函数\n",
    "        self.relu=torch.nn.ReLU(inplace=True)\n",
    "\n",
    "    def forward(self,x):\n",
    "        y=self.relu(self.bn1(self.conv1(x)))\n",
    "        y=self.bn2(self.conv2(y))\n",
    "        if self.conv3:\n",
    "            x=self.conv3(x)\n",
    "        y+=x  #数据相加s\n",
    "        #y=self.relu(y)  #<-----------------------\n",
    "        return self.relu(y)\n",
    "\n",
    "blk=Resnet(3,3)\n",
    "x=torch.rand(4,3,6,6)\n",
    "y=blk.forward(x)\n",
    "print(\"input_shape:\",x.shape)\n",
    "print(\"output_shape:\",y.shape)"
   ]
  },
  {
   "cell_type": "code",
   "execution_count": 4,
   "metadata": {},
   "outputs": [
    {
     "name": "stdout",
     "output_type": "stream",
     "text": [
      "input_shape: torch.Size([4, 3, 6, 6])\n",
      "output_shape: torch.Size([4, 6, 3, 3])\n"
     ]
    }
   ],
   "source": [
    "# 增加通道数\n",
    "blk=Resnet(3,6,use_1conv=True,stride=2)\n",
    "x=torch.rand(4,3,6,6)\n",
    "print(\"input_shape:\",x.shape)\n",
    "y=blk.forward(x)\n",
    "print(\"output_shape:\",y.shape)"
   ]
  },
  {
   "cell_type": "markdown",
   "metadata": {},
   "source": [
    "此代码生成两种类型的网络： 一种是当use_1x1conv=False时，应用ReLU非线性函数之前，将输入添加到输出。 另一种是当use_1x1conv=True时，添加通过1x1卷积调整通道和分辨率。\n",
    "\n",
    "<img src=\"pic\\31.jpg\" width=\"500\"/>"
   ]
  },
  {
   "cell_type": "markdown",
   "metadata": {},
   "source": [
    "## ResNet模型\n",
    "    ResNet的前两层跟之前介绍的GoogLeNet中的一样： 在输出通道数为64、步幅为2的7x7卷积层后，接步幅为2的的3x3最大汇聚层。 不同之处在于ResNet每个卷积层后增加了批量规范化层\n"
   ]
  },
  {
   "cell_type": "code",
   "execution_count": 5,
   "metadata": {},
   "outputs": [],
   "source": [
    "#第一层卷积层\n",
    "b1=torch.nn.Sequential(\n",
    "    torch.nn.Conv2d(1,64,kernel_size=7,stride=2,padding=3),\n",
    "    torch.nn.BatchNorm2d(64),  #防止梯度爆炸或者消失\n",
    "    torch.nn.ReLU(),\n",
    "    torch.nn.MaxPool2d(kernel_size=3,stride=2,padding=1)\n",
    ")"
   ]
  },
  {
   "cell_type": "markdown",
   "metadata": {},
   "source": [
    "ResNet则使用4个由残差块组成的模块，每个模块使用若干个同样输出通道数的残差块。 第一个模块的通道数同输入通道数一致。 由于之前已经使用了步幅为2的最大汇聚层，所以无须减小高和宽。 之后的每个模块在第一个残差块里将上一个模块的通道数翻倍，并将高和宽减半。"
   ]
  },
  {
   "cell_type": "code",
   "execution_count": 6,
   "metadata": {},
   "outputs": [],
   "source": [
    "'''\n",
    "input_channels:输入通道\n",
    "num_channels:输出通道\n",
    "num_resuduals:每个残差块的卷积层数量\n",
    "'''\n",
    "def resnet_block(input_channels,num_channels,num_resuduals,first_blk=False):\n",
    "    blk=[]\n",
    "    for i in range(num_resuduals):\n",
    "        #对第一个残差块的第一个块进行特殊处理（改变x的通道数，和输出相加）\n",
    "        if i==0 and not first_blk:\n",
    "            blk.append(Resnet(input_channels,num_channels,\n",
    "                                use_1conv=True,stride=2))\n",
    "        else:\n",
    "            blk.append(Resnet(num_channels,num_channels))\n",
    "    return blk\n"
   ]
  },
  {
   "cell_type": "code",
   "execution_count": 7,
   "metadata": {},
   "outputs": [],
   "source": [
    "def ResNet():\n",
    "    #第一层卷积层\n",
    "    b1=torch.nn.Sequential(\n",
    "        torch.nn.Conv2d(1,64,kernel_size=7,stride=2,padding=3),\n",
    "        torch.nn.BatchNorm2d(64),  #防止梯度爆炸或者消失\n",
    "        torch.nn.ReLU(),\n",
    "        torch.nn.MaxPool2d(kernel_size=3,stride=2,padding=1)\n",
    "    )\n",
    "     #一个残差块不需要调整通道数\n",
    "    b2 = torch.nn.Sequential(*resnet_block(64, 64, 2, first_blk=True)) \n",
    "    b3 = torch.nn.Sequential(*resnet_block(64, 128, 2))\n",
    "    b4 = torch.nn.Sequential(*resnet_block(128, 256, 2))\n",
    "    b5 = torch.nn.Sequential(*resnet_block(256, 512, 2))\n",
    "    net=torch.nn.Sequential(\n",
    "        b1,b2,b3,b4,b5,\n",
    "        torch.nn.AdaptiveAvgPool2d((1,1)),\n",
    "        torch.nn.Flatten(),\n",
    "        torch.nn.Linear(512,10)\n",
    "    )\n",
    "    return net"
   ]
  },
  {
   "cell_type": "markdown",
   "metadata": {},
   "source": [
    "每个模块有4个卷积层（不包括恒等映射1x1的卷积层）。 加上第一个7x7卷积层和最后一个全连接层，共有18层。 因此，这种模型通常被称为ResNet-18。 通过配置不同的通道数和模块里的残差块数可以得到不同的ResNet模型，例如更深的含152层的ResNet-152。 虽然ResNet的主体架构跟GoogLeNet类似，但ResNet架构更简单，修改也更方便。这些因素都导致了ResNet迅速被广泛使用。 图7.6.4描述了完整的ResNet-18。\n",
    "\n",
    "<img src=\"pic\\32.jpg\" width=\"200\"/>  \n",
    "<img src=\"pic\\33.jpg\" width=\"200\"/>\n",
    "\n",
    "\n"
   ]
  },
  {
   "cell_type": "code",
   "execution_count": 8,
   "metadata": {},
   "outputs": [
    {
     "data": {
      "text/plain": [
       "Sequential(\n",
       "  (0): Sequential(\n",
       "    (0): Conv2d(1, 64, kernel_size=(7, 7), stride=(2, 2), padding=(3, 3))\n",
       "    (1): BatchNorm2d(64, eps=1e-05, momentum=0.1, affine=True, track_running_stats=True)\n",
       "    (2): ReLU()\n",
       "    (3): MaxPool2d(kernel_size=3, stride=2, padding=1, dilation=1, ceil_mode=False)\n",
       "  )\n",
       "  (1): Sequential(\n",
       "    (0): Resnet(\n",
       "      (conv1): Conv2d(64, 64, kernel_size=(3, 3), stride=(1, 1), padding=(1, 1))\n",
       "      (conv2): Conv2d(64, 64, kernel_size=(3, 3), stride=(1, 1), padding=(1, 1))\n",
       "      (bn1): BatchNorm2d(64, eps=1e-05, momentum=0.1, affine=True, track_running_stats=True)\n",
       "      (bn2): BatchNorm2d(64, eps=1e-05, momentum=0.1, affine=True, track_running_stats=True)\n",
       "      (relu): ReLU(inplace=True)\n",
       "    )\n",
       "    (1): Resnet(\n",
       "      (conv1): Conv2d(64, 64, kernel_size=(3, 3), stride=(1, 1), padding=(1, 1))\n",
       "      (conv2): Conv2d(64, 64, kernel_size=(3, 3), stride=(1, 1), padding=(1, 1))\n",
       "      (bn1): BatchNorm2d(64, eps=1e-05, momentum=0.1, affine=True, track_running_stats=True)\n",
       "      (bn2): BatchNorm2d(64, eps=1e-05, momentum=0.1, affine=True, track_running_stats=True)\n",
       "      (relu): ReLU(inplace=True)\n",
       "    )\n",
       "  )\n",
       "  (2): Sequential(\n",
       "    (0): Resnet(\n",
       "      (conv1): Conv2d(64, 128, kernel_size=(3, 3), stride=(2, 2), padding=(1, 1))\n",
       "      (conv2): Conv2d(128, 128, kernel_size=(3, 3), stride=(1, 1), padding=(1, 1))\n",
       "      (conv3): Conv2d(64, 128, kernel_size=(1, 1), stride=(2, 2))\n",
       "      (bn1): BatchNorm2d(128, eps=1e-05, momentum=0.1, affine=True, track_running_stats=True)\n",
       "      (bn2): BatchNorm2d(128, eps=1e-05, momentum=0.1, affine=True, track_running_stats=True)\n",
       "      (relu): ReLU(inplace=True)\n",
       "    )\n",
       "    (1): Resnet(\n",
       "      (conv1): Conv2d(128, 128, kernel_size=(3, 3), stride=(1, 1), padding=(1, 1))\n",
       "      (conv2): Conv2d(128, 128, kernel_size=(3, 3), stride=(1, 1), padding=(1, 1))\n",
       "      (bn1): BatchNorm2d(128, eps=1e-05, momentum=0.1, affine=True, track_running_stats=True)\n",
       "      (bn2): BatchNorm2d(128, eps=1e-05, momentum=0.1, affine=True, track_running_stats=True)\n",
       "      (relu): ReLU(inplace=True)\n",
       "    )\n",
       "  )\n",
       "  (3): Sequential(\n",
       "    (0): Resnet(\n",
       "      (conv1): Conv2d(128, 256, kernel_size=(3, 3), stride=(2, 2), padding=(1, 1))\n",
       "      (conv2): Conv2d(256, 256, kernel_size=(3, 3), stride=(1, 1), padding=(1, 1))\n",
       "      (conv3): Conv2d(128, 256, kernel_size=(1, 1), stride=(2, 2))\n",
       "      (bn1): BatchNorm2d(256, eps=1e-05, momentum=0.1, affine=True, track_running_stats=True)\n",
       "      (bn2): BatchNorm2d(256, eps=1e-05, momentum=0.1, affine=True, track_running_stats=True)\n",
       "      (relu): ReLU(inplace=True)\n",
       "    )\n",
       "    (1): Resnet(\n",
       "      (conv1): Conv2d(256, 256, kernel_size=(3, 3), stride=(1, 1), padding=(1, 1))\n",
       "      (conv2): Conv2d(256, 256, kernel_size=(3, 3), stride=(1, 1), padding=(1, 1))\n",
       "      (bn1): BatchNorm2d(256, eps=1e-05, momentum=0.1, affine=True, track_running_stats=True)\n",
       "      (bn2): BatchNorm2d(256, eps=1e-05, momentum=0.1, affine=True, track_running_stats=True)\n",
       "      (relu): ReLU(inplace=True)\n",
       "    )\n",
       "  )\n",
       "  (4): Sequential(\n",
       "    (0): Resnet(\n",
       "      (conv1): Conv2d(256, 512, kernel_size=(3, 3), stride=(2, 2), padding=(1, 1))\n",
       "      (conv2): Conv2d(512, 512, kernel_size=(3, 3), stride=(1, 1), padding=(1, 1))\n",
       "      (conv3): Conv2d(256, 512, kernel_size=(1, 1), stride=(2, 2))\n",
       "      (bn1): BatchNorm2d(512, eps=1e-05, momentum=0.1, affine=True, track_running_stats=True)\n",
       "      (bn2): BatchNorm2d(512, eps=1e-05, momentum=0.1, affine=True, track_running_stats=True)\n",
       "      (relu): ReLU(inplace=True)\n",
       "    )\n",
       "    (1): Resnet(\n",
       "      (conv1): Conv2d(512, 512, kernel_size=(3, 3), stride=(1, 1), padding=(1, 1))\n",
       "      (conv2): Conv2d(512, 512, kernel_size=(3, 3), stride=(1, 1), padding=(1, 1))\n",
       "      (bn1): BatchNorm2d(512, eps=1e-05, momentum=0.1, affine=True, track_running_stats=True)\n",
       "      (bn2): BatchNorm2d(512, eps=1e-05, momentum=0.1, affine=True, track_running_stats=True)\n",
       "      (relu): ReLU(inplace=True)\n",
       "    )\n",
       "  )\n",
       "  (5): AdaptiveAvgPool2d(output_size=(1, 1))\n",
       "  (6): Flatten(start_dim=1, end_dim=-1)\n",
       "  (7): Linear(in_features=512, out_features=10, bias=True)\n",
       ")"
      ]
     },
     "execution_count": 8,
     "metadata": {},
     "output_type": "execute_result"
    }
   ],
   "source": [
    "net=ResNet()\n",
    "net"
   ]
  },
  {
   "cell_type": "markdown",
   "metadata": {},
   "source": [
    "## 读取数据"
   ]
  },
  {
   "cell_type": "code",
   "execution_count": 9,
   "metadata": {},
   "outputs": [],
   "source": [
    "def load_data(batch_size,resize):\n",
    "    # 通过ToTensor实例将图像数据从PIL类型变换成32位浮点数格式，\n",
    "    # 并除以255使得所有像素的数值均在0到1之间\n",
    "    trans =[transforms.ToTensor()]\n",
    "    #修改图片大小\n",
    "    if resize:\n",
    "        trans.insert(0,transforms.Resize(resize)) \n",
    "    trans=transforms.Compose(trans)\n",
    "    #下载训练数据\n",
    "    mnist_train = torchvision.datasets.FashionMNIST(\n",
    "        root=\"datasets\",  #保存的目录\n",
    "        train=True,       #下载的是训练数据集\n",
    "        transform=trans,   #得到的是pytorch的tensor，而不是图片\n",
    "        download=True)  #从网上下载\n",
    "    print(type(mnist_train))    \n",
    "    #下载测试数据\n",
    "    mnist_test = torchvision.datasets.FashionMNIST(\n",
    "        root=\"datasets\", train=False, transform=trans, download=True)\n",
    "    print(mnist_train)\n",
    "    print(len(mnist_train),len(mnist_test))\n",
    "    #装载数据\n",
    "    data_loader_train=data.DataLoader(dataset=mnist_train,\n",
    "                                                batch_size=batch_size,\n",
    "                                                shuffle=True)   #数据是否打乱\n",
    "    data_loader_test=data.DataLoader(dataset=mnist_test,\n",
    "                                    batch_size=batch_size,\n",
    "                                    shuffle=True)\n",
    "    return data_loader_train,data_loader_test"
   ]
  },
  {
   "cell_type": "markdown",
   "metadata": {},
   "source": [
    "## 训练模型\n",
    "* wxw：输入图片的大小\n",
    "* fxf：卷积核大小\n",
    "* s：步长（stride）\n",
    "* p：padding\n",
    "### 卷积层后的输出大小公式\n",
    "* 计算公式：N=(w-f+2p)/s+1**小数向上取整**\n",
    "\n",
    "### 池化层的输出大小公式\n",
    "* N'=(N-f)/s+1 **小数向上取整**"
   ]
  },
  {
   "cell_type": "code",
   "execution_count": 10,
   "metadata": {},
   "outputs": [],
   "source": [
    "'''定义预测准确率函数'''\n",
    "def acc(y_hat,y):\n",
    "    '''\n",
    "    :param y_hat: 接收二维张量，例如 torch.tensor([[1], [0]...])\n",
    "    :param y: 接收二维张量，例如 torch.tensor([[0.1, 0.2, 0.7], [0.8, 0.1, 0.1]...]) 三分类问题\n",
    "    :return:\n",
    "    '''\n",
    "    y_hat=y_hat.argmax(axis=1)\n",
    "    cmp=y_hat.type(y.dtype)==y  #数据类型是否相同\n",
    "    return float(cmp.type(y.dtype).sum())\n",
    "    \n",
    "class Accumulator():\n",
    "    ''' 对评估的正确数量和总数进行累加 '''\n",
    "    def __init__(self, n):\n",
    "        self.data = [0.0] * n\n",
    "\n",
    "    def add(self, *args):\n",
    "        self.data = [a + float(b) for a, b in zip(self.data, args)]\n",
    "\n",
    "    def reset(self):\n",
    "        self.data = [0.0] * len(self.data)\n",
    "\n",
    "    def __getitem__(self, item):\n",
    "        return self.data[item]\n",
    "\n",
    "'''自定义每个批次训练函数'''\n",
    "def train_epoch(net,train_iter,loss,optimizer,device):\n",
    "    #判断是不是pytorch得model，如果是，就打开训练模式，pytorch得训练模式默认开启梯度更新\n",
    "    if isinstance(net,torch.nn.Module):\n",
    "        net.train()\n",
    "    #创建样本累加器【累加每批次的损失值、样本预测正确的个数、样本总数】\n",
    "    metric = Accumulator(3)  \n",
    "    for x,y in train_iter:\n",
    "        x=x.to(device)                            #<----------------------GPU\n",
    "        y=y.to(device)\n",
    "        #前向传播获取预测结果\n",
    "        y_hat=net(x)\n",
    "        #计算损失\n",
    "        l=loss(y_hat,y) \n",
    "        #判断是pytorch自带得方法还是我们手写得方法（根据不同得方法有不同得处理方式）\n",
    "        if isinstance(optimizer,torch.optim.Optimizer):\n",
    "            #梯度清零\n",
    "            optimizer.zero_grad()\n",
    "            #损失之求和，反向传播（pytorch自动进行了损失值计算）\n",
    "            l.backward()\n",
    "            #更新梯度\n",
    "            optimizer.step()\n",
    "            #累加个参数\n",
    "            metric.add(\n",
    "                float(l)*len(y),  #损失值总数\n",
    "                acc(y_hat,y),     #计算预测正确得总数\n",
    "                y.size().numel()  #样本总数\n",
    "            )\n",
    "    #返回平均损失值，预测正确得概率\n",
    "    return metric[0]/metric[2],metric[1]/metric[2]\n",
    "\n",
    "'''模型测试'''\n",
    "def test_epoch(net,test_iter,device):\n",
    "    if isinstance(net,torch.nn.Module):\n",
    "        net.eval()  #将模型设置为评估模式\n",
    "    metric=Accumulator(2)\n",
    "    for x,y in test_iter:\n",
    "        x=x.to(device)                            #<----------------------GPU\n",
    "        y=y.to(device)\n",
    "        metric.add(\n",
    "            acc(net.forward(x),y),  #计算准确个数\n",
    "            y.numel()  #测试样本总数\n",
    "        )\n",
    "    return metric[0]/metric[1]\n",
    "\n",
    "'''正式训练'''\n",
    "def train_LeNet(num_epochs,trian_iter,test_iter,lr):\n",
    "    device=torch.device(\"cuda\" if torch.cuda.is_available() else \"cpu\")\n",
    "    print(device)\n",
    "    net=ResNet()  #VGG网络\n",
    "    net=net.to(device)  #将网络放在gpu或cpu运行<--------------\n",
    "    loss_list=[]\n",
    "    train_acc=[]\n",
    "    test_acc=[]\n",
    "    #初始化权重\n",
    "    def init_weight(m):\n",
    "        if type(m)==torch.nn.Linear or type(m)==torch.nn.Conv2d:\n",
    "            torch.nn.init.xavier_normal_(m.weight)\n",
    "    net.apply(init_weight)\n",
    "    #损失函数\n",
    "    loss=torch.nn.CrossEntropyLoss()\n",
    "    #优化器\n",
    "    optimizer=torch.optim.SGD(net.parameters(),lr=lr)\n",
    "    #训练\n",
    "    for epoch in range(num_epochs):\n",
    "        #返回平均损失值和正确率\n",
    "        train_metrics=train_epoch(net,trian_iter,loss,optimizer,device)  #<-----训练\n",
    "        loss_list.append(train_metrics[0])  #保存loss\n",
    "        train_acc.append(train_metrics[1])   #保存准确率\n",
    "        #测试集\n",
    "        test_metric=test_epoch(net,test_iter,device)     #<-------------测试\n",
    "        test_acc.append(test_metric)\n",
    "        print(f\"epoch{epoch+1}:loss={train_metrics[0]},train_acc={train_metrics[1]*100:.2f}%,test_acc={test_metric*100:.2f}%\")\n",
    "    \n",
    "    return loss_list,train_acc,test_acc\n",
    "\n",
    "'''可视化'''\n",
    "def draw(num_epochs,loss_list,train_acc,test_acc):\n",
    "    fig,ax=plt.subplots()   #定义画布\n",
    "    ax.grid(True)          #添加网格\n",
    "    ax.set_xlabel(\"epoch\")\n",
    "    #ax.set_ylim(0,1)\n",
    "\n",
    "    ax.plot(range(num_epochs),loss_list,label=\"loss\")\n",
    "    ax.plot(range(num_epochs),train_acc,dashes=[6, 2],label=\"train\")\n",
    "    ax.plot(range(num_epochs),test_acc,dashes=[6, 2],label=\"test\")\n",
    "    ax.legend(title=\"ResNet\")\n",
    "    ax.legend()\n",
    "    plt.show()"
   ]
  },
  {
   "cell_type": "code",
   "execution_count": 11,
   "metadata": {},
   "outputs": [
    {
     "name": "stdout",
     "output_type": "stream",
     "text": [
      "Sequential output shape:\t torch.Size([1, 64, 56, 56])\n",
      "Sequential output shape:\t torch.Size([1, 64, 56, 56])\n",
      "Sequential output shape:\t torch.Size([1, 128, 28, 28])\n",
      "Sequential output shape:\t torch.Size([1, 256, 14, 14])\n",
      "Sequential output shape:\t torch.Size([1, 512, 7, 7])\n",
      "AdaptiveAvgPool2d output shape:\t torch.Size([1, 512, 1, 1])\n",
      "Flatten output shape:\t torch.Size([1, 512])\n",
      "Linear output shape:\t torch.Size([1, 10])\n",
      "<class 'torchvision.datasets.mnist.FashionMNIST'>\n",
      "Dataset FashionMNIST\n",
      "    Number of datapoints: 60000\n",
      "    Root location: datasets\n",
      "    Split: Train\n",
      "    StandardTransform\n",
      "Transform: Compose(\n",
      "               Resize(size=224, interpolation=bilinear, max_size=None, antialias=None)\n",
      "               ToTensor()\n",
      "           )\n",
      "60000 10000\n",
      "cuda\n"
     ]
    },
    {
     "ename": "KeyboardInterrupt",
     "evalue": "",
     "output_type": "error",
     "traceback": [
      "\u001b[0;31m---------------------------------------------------------------------------\u001b[0m",
      "\u001b[0;31mKeyboardInterrupt\u001b[0m                         Traceback (most recent call last)",
      "\u001b[1;32m/home/bdai/jie/10_现在卷积网络/model/3_ResNet.ipynb Cell 18\u001b[0m in \u001b[0;36m<cell line: 12>\u001b[0;34m()\u001b[0m\n\u001b[1;32m     <a href='vscode-notebook-cell://ssh-remote%2B114.213.162.194/home/bdai/jie/10_%E7%8E%B0%E5%9C%A8%E5%8D%B7%E7%A7%AF%E7%BD%91%E7%BB%9C/model/3_ResNet.ipynb#ch0000017vscode-remote?line=9'>10</a>\u001b[0m train_iter,test_iter\u001b[39m=\u001b[39mload_data(batch_size\u001b[39m=\u001b[39m\u001b[39m64\u001b[39m,resize\u001b[39m=\u001b[39m\u001b[39m224\u001b[39m)\n\u001b[1;32m     <a href='vscode-notebook-cell://ssh-remote%2B114.213.162.194/home/bdai/jie/10_%E7%8E%B0%E5%9C%A8%E5%8D%B7%E7%A7%AF%E7%BD%91%E7%BB%9C/model/3_ResNet.ipynb#ch0000017vscode-remote?line=10'>11</a>\u001b[0m \u001b[39m#训练\u001b[39;00m\n\u001b[0;32m---> <a href='vscode-notebook-cell://ssh-remote%2B114.213.162.194/home/bdai/jie/10_%E7%8E%B0%E5%9C%A8%E5%8D%B7%E7%A7%AF%E7%BD%91%E7%BB%9C/model/3_ResNet.ipynb#ch0000017vscode-remote?line=11'>12</a>\u001b[0m loss_list,train_acc,test_acc\u001b[39m=\u001b[39mtrain_LeNet(num_epochs,train_iter,test_iter,lr)\n",
      "\u001b[1;32m/home/bdai/jie/10_现在卷积网络/model/3_ResNet.ipynb Cell 18\u001b[0m in \u001b[0;36mtrain_LeNet\u001b[0;34m(num_epochs, trian_iter, test_iter, lr)\u001b[0m\n\u001b[1;32m     <a href='vscode-notebook-cell://ssh-remote%2B114.213.162.194/home/bdai/jie/10_%E7%8E%B0%E5%9C%A8%E5%8D%B7%E7%A7%AF%E7%BD%91%E7%BB%9C/model/3_ResNet.ipynb#ch0000017vscode-remote?line=88'>89</a>\u001b[0m \u001b[39m#训练\u001b[39;00m\n\u001b[1;32m     <a href='vscode-notebook-cell://ssh-remote%2B114.213.162.194/home/bdai/jie/10_%E7%8E%B0%E5%9C%A8%E5%8D%B7%E7%A7%AF%E7%BD%91%E7%BB%9C/model/3_ResNet.ipynb#ch0000017vscode-remote?line=89'>90</a>\u001b[0m \u001b[39mfor\u001b[39;00m epoch \u001b[39min\u001b[39;00m \u001b[39mrange\u001b[39m(num_epochs):\n\u001b[1;32m     <a href='vscode-notebook-cell://ssh-remote%2B114.213.162.194/home/bdai/jie/10_%E7%8E%B0%E5%9C%A8%E5%8D%B7%E7%A7%AF%E7%BD%91%E7%BB%9C/model/3_ResNet.ipynb#ch0000017vscode-remote?line=90'>91</a>\u001b[0m     \u001b[39m#返回平均损失值和正确率\u001b[39;00m\n\u001b[0;32m---> <a href='vscode-notebook-cell://ssh-remote%2B114.213.162.194/home/bdai/jie/10_%E7%8E%B0%E5%9C%A8%E5%8D%B7%E7%A7%AF%E7%BD%91%E7%BB%9C/model/3_ResNet.ipynb#ch0000017vscode-remote?line=91'>92</a>\u001b[0m     train_metrics\u001b[39m=\u001b[39mtrain_epoch(net,trian_iter,loss,optimizer,device)  \u001b[39m#<-----训练\u001b[39;00m\n\u001b[1;32m     <a href='vscode-notebook-cell://ssh-remote%2B114.213.162.194/home/bdai/jie/10_%E7%8E%B0%E5%9C%A8%E5%8D%B7%E7%A7%AF%E7%BD%91%E7%BB%9C/model/3_ResNet.ipynb#ch0000017vscode-remote?line=92'>93</a>\u001b[0m     loss_list\u001b[39m.\u001b[39mappend(train_metrics[\u001b[39m0\u001b[39m])  \u001b[39m#保存loss\u001b[39;00m\n\u001b[1;32m     <a href='vscode-notebook-cell://ssh-remote%2B114.213.162.194/home/bdai/jie/10_%E7%8E%B0%E5%9C%A8%E5%8D%B7%E7%A7%AF%E7%BD%91%E7%BB%9C/model/3_ResNet.ipynb#ch0000017vscode-remote?line=93'>94</a>\u001b[0m     train_acc\u001b[39m.\u001b[39mappend(train_metrics[\u001b[39m1\u001b[39m])   \u001b[39m#保存准确率\u001b[39;00m\n",
      "\u001b[1;32m/home/bdai/jie/10_现在卷积网络/model/3_ResNet.ipynb Cell 18\u001b[0m in \u001b[0;36mtrain_epoch\u001b[0;34m(net, train_iter, loss, optimizer, device)\u001b[0m\n\u001b[1;32m     <a href='vscode-notebook-cell://ssh-remote%2B114.213.162.194/home/bdai/jie/10_%E7%8E%B0%E5%9C%A8%E5%8D%B7%E7%A7%AF%E7%BD%91%E7%BB%9C/model/3_ResNet.ipynb#ch0000017vscode-remote?line=34'>35</a>\u001b[0m y\u001b[39m=\u001b[39my\u001b[39m.\u001b[39mto(device)\n\u001b[1;32m     <a href='vscode-notebook-cell://ssh-remote%2B114.213.162.194/home/bdai/jie/10_%E7%8E%B0%E5%9C%A8%E5%8D%B7%E7%A7%AF%E7%BD%91%E7%BB%9C/model/3_ResNet.ipynb#ch0000017vscode-remote?line=35'>36</a>\u001b[0m \u001b[39m#前向传播获取预测结果\u001b[39;00m\n\u001b[0;32m---> <a href='vscode-notebook-cell://ssh-remote%2B114.213.162.194/home/bdai/jie/10_%E7%8E%B0%E5%9C%A8%E5%8D%B7%E7%A7%AF%E7%BD%91%E7%BB%9C/model/3_ResNet.ipynb#ch0000017vscode-remote?line=36'>37</a>\u001b[0m y_hat\u001b[39m=\u001b[39mnet(x)\n\u001b[1;32m     <a href='vscode-notebook-cell://ssh-remote%2B114.213.162.194/home/bdai/jie/10_%E7%8E%B0%E5%9C%A8%E5%8D%B7%E7%A7%AF%E7%BD%91%E7%BB%9C/model/3_ResNet.ipynb#ch0000017vscode-remote?line=37'>38</a>\u001b[0m \u001b[39m#计算损失\u001b[39;00m\n\u001b[1;32m     <a href='vscode-notebook-cell://ssh-remote%2B114.213.162.194/home/bdai/jie/10_%E7%8E%B0%E5%9C%A8%E5%8D%B7%E7%A7%AF%E7%BD%91%E7%BB%9C/model/3_ResNet.ipynb#ch0000017vscode-remote?line=38'>39</a>\u001b[0m l\u001b[39m=\u001b[39mloss(y_hat,y) \n",
      "File \u001b[0;32m~/anaconda3/lib/python3.9/site-packages/torch/nn/modules/module.py:1130\u001b[0m, in \u001b[0;36mModule._call_impl\u001b[0;34m(self, *input, **kwargs)\u001b[0m\n\u001b[1;32m   1126\u001b[0m \u001b[39m# If we don't have any hooks, we want to skip the rest of the logic in\u001b[39;00m\n\u001b[1;32m   1127\u001b[0m \u001b[39m# this function, and just call forward.\u001b[39;00m\n\u001b[1;32m   1128\u001b[0m \u001b[39mif\u001b[39;00m \u001b[39mnot\u001b[39;00m (\u001b[39mself\u001b[39m\u001b[39m.\u001b[39m_backward_hooks \u001b[39mor\u001b[39;00m \u001b[39mself\u001b[39m\u001b[39m.\u001b[39m_forward_hooks \u001b[39mor\u001b[39;00m \u001b[39mself\u001b[39m\u001b[39m.\u001b[39m_forward_pre_hooks \u001b[39mor\u001b[39;00m _global_backward_hooks\n\u001b[1;32m   1129\u001b[0m         \u001b[39mor\u001b[39;00m _global_forward_hooks \u001b[39mor\u001b[39;00m _global_forward_pre_hooks):\n\u001b[0;32m-> 1130\u001b[0m     \u001b[39mreturn\u001b[39;00m forward_call(\u001b[39m*\u001b[39;49m\u001b[39minput\u001b[39;49m, \u001b[39m*\u001b[39;49m\u001b[39m*\u001b[39;49mkwargs)\n\u001b[1;32m   1131\u001b[0m \u001b[39m# Do not call functions when jit is used\u001b[39;00m\n\u001b[1;32m   1132\u001b[0m full_backward_hooks, non_full_backward_hooks \u001b[39m=\u001b[39m [], []\n",
      "File \u001b[0;32m~/anaconda3/lib/python3.9/site-packages/torch/nn/modules/container.py:139\u001b[0m, in \u001b[0;36mSequential.forward\u001b[0;34m(self, input)\u001b[0m\n\u001b[1;32m    137\u001b[0m \u001b[39mdef\u001b[39;00m \u001b[39mforward\u001b[39m(\u001b[39mself\u001b[39m, \u001b[39minput\u001b[39m):\n\u001b[1;32m    138\u001b[0m     \u001b[39mfor\u001b[39;00m module \u001b[39min\u001b[39;00m \u001b[39mself\u001b[39m:\n\u001b[0;32m--> 139\u001b[0m         \u001b[39minput\u001b[39m \u001b[39m=\u001b[39m module(\u001b[39minput\u001b[39;49m)\n\u001b[1;32m    140\u001b[0m     \u001b[39mreturn\u001b[39;00m \u001b[39minput\u001b[39m\n",
      "File \u001b[0;32m~/anaconda3/lib/python3.9/site-packages/torch/nn/modules/module.py:1130\u001b[0m, in \u001b[0;36mModule._call_impl\u001b[0;34m(self, *input, **kwargs)\u001b[0m\n\u001b[1;32m   1126\u001b[0m \u001b[39m# If we don't have any hooks, we want to skip the rest of the logic in\u001b[39;00m\n\u001b[1;32m   1127\u001b[0m \u001b[39m# this function, and just call forward.\u001b[39;00m\n\u001b[1;32m   1128\u001b[0m \u001b[39mif\u001b[39;00m \u001b[39mnot\u001b[39;00m (\u001b[39mself\u001b[39m\u001b[39m.\u001b[39m_backward_hooks \u001b[39mor\u001b[39;00m \u001b[39mself\u001b[39m\u001b[39m.\u001b[39m_forward_hooks \u001b[39mor\u001b[39;00m \u001b[39mself\u001b[39m\u001b[39m.\u001b[39m_forward_pre_hooks \u001b[39mor\u001b[39;00m _global_backward_hooks\n\u001b[1;32m   1129\u001b[0m         \u001b[39mor\u001b[39;00m _global_forward_hooks \u001b[39mor\u001b[39;00m _global_forward_pre_hooks):\n\u001b[0;32m-> 1130\u001b[0m     \u001b[39mreturn\u001b[39;00m forward_call(\u001b[39m*\u001b[39;49m\u001b[39minput\u001b[39;49m, \u001b[39m*\u001b[39;49m\u001b[39m*\u001b[39;49mkwargs)\n\u001b[1;32m   1131\u001b[0m \u001b[39m# Do not call functions when jit is used\u001b[39;00m\n\u001b[1;32m   1132\u001b[0m full_backward_hooks, non_full_backward_hooks \u001b[39m=\u001b[39m [], []\n",
      "File \u001b[0;32m~/anaconda3/lib/python3.9/site-packages/torch/nn/modules/container.py:139\u001b[0m, in \u001b[0;36mSequential.forward\u001b[0;34m(self, input)\u001b[0m\n\u001b[1;32m    137\u001b[0m \u001b[39mdef\u001b[39;00m \u001b[39mforward\u001b[39m(\u001b[39mself\u001b[39m, \u001b[39minput\u001b[39m):\n\u001b[1;32m    138\u001b[0m     \u001b[39mfor\u001b[39;00m module \u001b[39min\u001b[39;00m \u001b[39mself\u001b[39m:\n\u001b[0;32m--> 139\u001b[0m         \u001b[39minput\u001b[39m \u001b[39m=\u001b[39m module(\u001b[39minput\u001b[39;49m)\n\u001b[1;32m    140\u001b[0m     \u001b[39mreturn\u001b[39;00m \u001b[39minput\u001b[39m\n",
      "File \u001b[0;32m~/anaconda3/lib/python3.9/site-packages/torch/nn/modules/module.py:1130\u001b[0m, in \u001b[0;36mModule._call_impl\u001b[0;34m(self, *input, **kwargs)\u001b[0m\n\u001b[1;32m   1126\u001b[0m \u001b[39m# If we don't have any hooks, we want to skip the rest of the logic in\u001b[39;00m\n\u001b[1;32m   1127\u001b[0m \u001b[39m# this function, and just call forward.\u001b[39;00m\n\u001b[1;32m   1128\u001b[0m \u001b[39mif\u001b[39;00m \u001b[39mnot\u001b[39;00m (\u001b[39mself\u001b[39m\u001b[39m.\u001b[39m_backward_hooks \u001b[39mor\u001b[39;00m \u001b[39mself\u001b[39m\u001b[39m.\u001b[39m_forward_hooks \u001b[39mor\u001b[39;00m \u001b[39mself\u001b[39m\u001b[39m.\u001b[39m_forward_pre_hooks \u001b[39mor\u001b[39;00m _global_backward_hooks\n\u001b[1;32m   1129\u001b[0m         \u001b[39mor\u001b[39;00m _global_forward_hooks \u001b[39mor\u001b[39;00m _global_forward_pre_hooks):\n\u001b[0;32m-> 1130\u001b[0m     \u001b[39mreturn\u001b[39;00m forward_call(\u001b[39m*\u001b[39;49m\u001b[39minput\u001b[39;49m, \u001b[39m*\u001b[39;49m\u001b[39m*\u001b[39;49mkwargs)\n\u001b[1;32m   1131\u001b[0m \u001b[39m# Do not call functions when jit is used\u001b[39;00m\n\u001b[1;32m   1132\u001b[0m full_backward_hooks, non_full_backward_hooks \u001b[39m=\u001b[39m [], []\n",
      "File \u001b[0;32m~/anaconda3/lib/python3.9/site-packages/torch/nn/modules/batchnorm.py:168\u001b[0m, in \u001b[0;36m_BatchNorm.forward\u001b[0;34m(self, input)\u001b[0m\n\u001b[1;32m    161\u001b[0m     bn_training \u001b[39m=\u001b[39m (\u001b[39mself\u001b[39m\u001b[39m.\u001b[39mrunning_mean \u001b[39mis\u001b[39;00m \u001b[39mNone\u001b[39;00m) \u001b[39mand\u001b[39;00m (\u001b[39mself\u001b[39m\u001b[39m.\u001b[39mrunning_var \u001b[39mis\u001b[39;00m \u001b[39mNone\u001b[39;00m)\n\u001b[1;32m    163\u001b[0m \u001b[39mr\u001b[39m\u001b[39m\"\"\"\u001b[39;00m\n\u001b[1;32m    164\u001b[0m \u001b[39mBuffers are only updated if they are to be tracked and we are in training mode. Thus they only need to be\u001b[39;00m\n\u001b[1;32m    165\u001b[0m \u001b[39mpassed when the update should occur (i.e. in training mode when they are tracked), or when buffer stats are\u001b[39;00m\n\u001b[1;32m    166\u001b[0m \u001b[39mused for normalization (i.e. in eval mode when buffers are not None).\u001b[39;00m\n\u001b[1;32m    167\u001b[0m \u001b[39m\"\"\"\u001b[39;00m\n\u001b[0;32m--> 168\u001b[0m \u001b[39mreturn\u001b[39;00m F\u001b[39m.\u001b[39;49mbatch_norm(\n\u001b[1;32m    169\u001b[0m     \u001b[39minput\u001b[39;49m,\n\u001b[1;32m    170\u001b[0m     \u001b[39m# If buffers are not to be tracked, ensure that they won't be updated\u001b[39;49;00m\n\u001b[1;32m    171\u001b[0m     \u001b[39mself\u001b[39;49m\u001b[39m.\u001b[39;49mrunning_mean\n\u001b[1;32m    172\u001b[0m     \u001b[39mif\u001b[39;49;00m \u001b[39mnot\u001b[39;49;00m \u001b[39mself\u001b[39;49m\u001b[39m.\u001b[39;49mtraining \u001b[39mor\u001b[39;49;00m \u001b[39mself\u001b[39;49m\u001b[39m.\u001b[39;49mtrack_running_stats\n\u001b[1;32m    173\u001b[0m     \u001b[39melse\u001b[39;49;00m \u001b[39mNone\u001b[39;49;00m,\n\u001b[1;32m    174\u001b[0m     \u001b[39mself\u001b[39;49m\u001b[39m.\u001b[39;49mrunning_var \u001b[39mif\u001b[39;49;00m \u001b[39mnot\u001b[39;49;00m \u001b[39mself\u001b[39;49m\u001b[39m.\u001b[39;49mtraining \u001b[39mor\u001b[39;49;00m \u001b[39mself\u001b[39;49m\u001b[39m.\u001b[39;49mtrack_running_stats \u001b[39melse\u001b[39;49;00m \u001b[39mNone\u001b[39;49;00m,\n\u001b[1;32m    175\u001b[0m     \u001b[39mself\u001b[39;49m\u001b[39m.\u001b[39;49mweight,\n\u001b[1;32m    176\u001b[0m     \u001b[39mself\u001b[39;49m\u001b[39m.\u001b[39;49mbias,\n\u001b[1;32m    177\u001b[0m     bn_training,\n\u001b[1;32m    178\u001b[0m     exponential_average_factor,\n\u001b[1;32m    179\u001b[0m     \u001b[39mself\u001b[39;49m\u001b[39m.\u001b[39;49meps,\n\u001b[1;32m    180\u001b[0m )\n",
      "File \u001b[0;32m~/anaconda3/lib/python3.9/site-packages/torch/nn/functional.py:2438\u001b[0m, in \u001b[0;36mbatch_norm\u001b[0;34m(input, running_mean, running_var, weight, bias, training, momentum, eps)\u001b[0m\n\u001b[1;32m   2435\u001b[0m \u001b[39mif\u001b[39;00m training:\n\u001b[1;32m   2436\u001b[0m     _verify_batch_size(\u001b[39minput\u001b[39m\u001b[39m.\u001b[39msize())\n\u001b[0;32m-> 2438\u001b[0m \u001b[39mreturn\u001b[39;00m torch\u001b[39m.\u001b[39;49mbatch_norm(\n\u001b[1;32m   2439\u001b[0m     \u001b[39minput\u001b[39;49m, weight, bias, running_mean, running_var, training, momentum, eps, torch\u001b[39m.\u001b[39;49mbackends\u001b[39m.\u001b[39;49mcudnn\u001b[39m.\u001b[39;49menabled\n\u001b[1;32m   2440\u001b[0m )\n",
      "\u001b[0;31mKeyboardInterrupt\u001b[0m: "
     ]
    }
   ],
   "source": [
    "batch_size=64\n",
    "num_epochs=10\n",
    "lr=0.01\n",
    "#查看网络参数\n",
    "x=torch.randn(size=(1,1,224,224))\n",
    "for blk in ResNet():\n",
    "    x=blk(x)\n",
    "    print(blk.__class__.__name__,'output shape:\\t',x.shape)\n",
    "#数据集\n",
    "train_iter,test_iter=load_data(batch_size=64,resize=224)\n",
    "#训练\n",
    "loss_list,train_acc,test_acc=train_LeNet(num_epochs,train_iter,test_iter,lr)"
   ]
  },
  {
   "cell_type": "code",
   "execution_count": null,
   "metadata": {},
   "outputs": [
    {
     "data": {
      "image/png": "[encoded data removed]",
      "text/plain": [
       "<Figure size 432x288 with 1 Axes>"
      ]
     },
     "metadata": {
      "needs_background": "light"
     },
     "output_type": "display_data"
    },
    {
     "ename": "",
     "evalue": "",
     "output_type": "error",
     "traceback": [
      "\u001b[1;31mThe Kernel crashed while executing code in the the current cell or a previous cell. Please review the code in the cell(s) to identify a possible cause of the failure. Click <a href='https://aka.ms/vscodeJupyterKernelCrash'>here</a> for more info. View Jupyter <a href='command:jupyter.viewOutput'>log</a> for further details."
     ]
    }
   ],
   "source": [
    "draw(num_epochs,loss_list,train_acc,test_acc)"
   ]
  },
  {
   "cell_type": "markdown",
   "metadata": {},
   "source": [
    "# 小结\n",
    "* 利用残差块（residual blocks）可以训练出一个有效的深层神经网络：输入可以通过层间的残余连接更快地向前传播。\n",
    "* 残差网络（ResNet）对随后的深层神经网络设计产生了深远影响。\n",
    "* 加快收敛的速度\n",
    "* 防止梯度爆炸或者消失"
   ]
  }
 ],
 "metadata": {
  "kernelspec": {
   "display_name": "Python 3.7.6 ('base')",
   "language": "python",
   "name": "python3"
  },
  "language_info": {
   "codemirror_mode": {
    "name": "ipython",
    "version": 3
   },
   "file_extension": ".py",
   "mimetype": "text/x-python",
   "name": "python",
   "nbconvert_exporter": "python",
   "pygments_lexer": "ipython3",
   "version": "3.7.6"
  },
  "orig_nbformat": 4,
  "vscode": {
   "interpreter": {
    "hash": "49cb93f377a7abe7414b7b0f21fb3017538004a126cf690fb524202736b7fb92"
   }
  }
 },
 "nbformat": 4,
 "nbformat_minor": 2
}
