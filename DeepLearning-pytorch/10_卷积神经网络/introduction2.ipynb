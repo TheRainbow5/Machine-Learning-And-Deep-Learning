{
 "cells": [
  {
   "cell_type": "markdown",
   "metadata": {},
   "source": [
    "# Convolutional Layer\n",
    "\n",
    "<img src=\"pic\\1.jpg\"  width=\"500\" />\n",
    "\n",
    "在convolution中，可以设置很多个fiter（卷积核），如果图片是灰色图（1层），则channel=1；如果是彩色图3层RGB），则channel=3。每一个filter的作用是抓取某一部分的信息，放在3x3xchannel的张量中。\n",
    "\n",
    "## filter是如何抓取pattern？\n",
    "假设，我们的图片只有一层\n",
    "\n",
    "<img src=\"pic\\2.jpg\" width=\"500\"/>\n",
    "\n",
    "filter中的数值其实就是model里面的parameters，其实是未知的，它需要通过**梯度下降**去找出来。\n",
    "\n",
    "<img src=\"pic\\3.jpg\" width=\"500\"/>\n",
    "\n",
    "设置stride=1（filter移动的步长），你会发现，图片中出现斜向下的地方，在特征图片中的数值最大。\n",
    "\n",
    "<img src=\"pic\\4.jpg\" width=\"500\"/>\n",
    "\n",
    "通过2个filter获取的数据的图片合在一起称为特征图（可以看成另外一张图片，作为下一层convolution的输入）。\n",
    "\n",
    "<img src=\"pic\\5.jpg\" width=\"500\"/>\n",
    "\n",
    "我们假设，现在有64个filter，那么输出的特征图就有64个channel，作为下一层convolution的输入。\n",
    "\n",
    "## 如果filter的大小只有3x3的，会不会限制model无法检测比较大的范围呢？\n",
    "不会\n",
    "\n",
    "<img src=\"pic\\6.jpg\" width=\"500\"/>\n",
    "\n",
    "假设我们在特征图中选取3x3的范围，左上角-1则包含了初始图片的左上角的数据3x3维的数据。所以当我们在特征如中选取了3x3的范围，其实在初始图片中考虑到了5x5范围的数据。\n",
    "\n",
    "我们在第二层convolution中filter设置3x3，其实考虑了5x5的数据。今天，network足够深，不用怕model检测不到patern。"
   ]
  },
  {
   "cell_type": "markdown",
   "metadata": {},
   "source": [
    "# observation 3\n",
    "* sumbsampling the pixels will not change the object\n",
    "\n",
    "<img src=\"pic\\7.jpg\" width=\"500\"/>\n",
    "\n",
    "## Pooling-Max Pooling\n",
    "    为了降低计算复杂度，减少运算量。\n",
    "Pooling有许多的版本，这里先将Max Pooling\n",
    "\n",
    "<img src=\"pic\\8.jpg\" width=\"500\"/>\n",
    "\n",
    "假设，我们将特征图片为了2x2（这个是自己决定的）的一组，在每一组中选择最大的值。\n",
    "\n",
    "<img src=\"pic\\9.jpg\" width=\"500\"/>\n",
    "\n",
    "在做完pooling之后，我们就是把特征图片变小，channel还是=64，一般再notwork中convolution和pooling交替使用。\n",
    "\n",
    "不过pooling对于图片的检测还是会带来一些伤害，假设你需要检测一些很细微的东西，可能会差一点。\n",
    "\n",
    "今天，由于计算机的性能的提高，在影像辨识方面可能抛弃pooling，全部都是convolution，称为Full convolution。\n",
    "\n",
    "## 最终怎么得到结果呢？\n",
    "<img src=\"pic\\10.jpg\" width=\"500\"/>"
   ]
  },
  {
   "cell_type": "markdown",
   "metadata": {},
   "source": [
    "# Applitcation\n",
    "\n"
   ]
  }
 ],
 "metadata": {
  "kernelspec": {
   "display_name": "Python 3.7.6 ('base')",
   "language": "python",
   "name": "python3"
  },
  "language_info": {
   "name": "python",
   "version": "3.7.6"
  },
  "orig_nbformat": 4,
  "vscode": {
   "interpreter": {
    "hash": "49cb93f377a7abe7414b7b0f21fb3017538004a126cf690fb524202736b7fb92"
   }
  }
 },
 "nbformat": 4,
 "nbformat_minor": 2
}
