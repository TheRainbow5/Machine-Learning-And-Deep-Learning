{
 "cells": [
  {
   "cell_type": "code",
   "execution_count": 3,
   "metadata": {},
   "outputs": [],
   "source": [
    "import torch "
   ]
  },
  {
   "cell_type": "markdown",
   "metadata": {},
   "source": [
    "# 参数管理\n",
    "我们首先关注具有单隐藏层的多层感知机"
   ]
  },
  {
   "cell_type": "code",
   "execution_count": 4,
   "metadata": {},
   "outputs": [
    {
     "data": {
      "text/plain": [
       "tensor([[-0.4211],\n",
       "        [-0.3499]], grad_fn=<AddmmBackward0>)"
      ]
     },
     "execution_count": 4,
     "metadata": {},
     "output_type": "execute_result"
    }
   ],
   "source": [
    "net=torch.nn.Sequential(\n",
    "    torch.nn.Linear(4,8),\n",
    "    torch.nn.ReLU(),\n",
    "    torch.nn.Linear(8,1)\n",
    ")\n",
    "x=torch.rand(2,4)\n",
    "net(x)"
   ]
  },
  {
   "cell_type": "markdown",
   "metadata": {},
   "source": [
    "## 参数访问"
   ]
  },
  {
   "cell_type": "code",
   "execution_count": 7,
   "metadata": {},
   "outputs": [
    {
     "name": "stdout",
     "output_type": "stream",
     "text": [
      "OrderedDict([('weight', tensor([[ 2.3414e-01, -7.2474e-02, -2.2102e-01, -1.2125e-01],\n",
      "        [ 1.7359e-01,  2.4657e-01, -3.6089e-01,  2.1554e-01],\n",
      "        [-3.6036e-01, -1.2698e-01,  2.5537e-02, -2.4244e-01],\n",
      "        [-4.7073e-01, -1.1169e-01, -2.4766e-04,  1.5903e-02],\n",
      "        [ 3.3044e-02, -4.8089e-01,  2.2614e-01, -7.6773e-02],\n",
      "        [-3.7510e-01,  3.6134e-01,  2.4130e-01,  4.3169e-02],\n",
      "        [-3.4710e-01,  4.6741e-01, -2.9292e-01,  1.0398e-01],\n",
      "        [-4.7008e-01,  4.1097e-01,  1.9308e-02,  3.0713e-01]])), ('bias', tensor([-0.0068,  0.1506,  0.0244, -0.3184,  0.2109,  0.2163,  0.0858, -0.1886]))])\n",
      "OrderedDict([('weight', tensor([[ 0.0171, -0.2248,  0.2709,  0.1348,  0.3504, -0.2684, -0.1596,  0.2174]])), ('bias', tensor([-0.3127]))])\n"
     ]
    }
   ],
   "source": [
    "#第一层参数\n",
    "print(net[0].state_dict())\n",
    "#第三层参数\n",
    "print(net[2].state_dict())"
   ]
  },
  {
   "cell_type": "markdown",
   "metadata": {},
   "source": [
    "## 目标参数"
   ]
  },
  {
   "cell_type": "code",
   "execution_count": 10,
   "metadata": {},
   "outputs": [
    {
     "name": "stdout",
     "output_type": "stream",
     "text": [
      "<class 'torch.nn.parameter.Parameter'>\n",
      "Parameter containing:\n",
      "tensor([-0.3127], requires_grad=True)\n",
      "tensor([-0.3127])\n"
     ]
    }
   ],
   "source": [
    "print(type(net[2].bias))\n",
    "print(net[2].bias)  \n",
    "print(net[2].bias.data)"
   ]
  },
  {
   "cell_type": "code",
   "execution_count": 11,
   "metadata": {},
   "outputs": [
    {
     "name": "stdout",
     "output_type": "stream",
     "text": [
      "None\n"
     ]
    }
   ],
   "source": [
    "print(net[2].weight.grad)  #访问梯度"
   ]
  },
  {
   "cell_type": "markdown",
   "metadata": {},
   "source": [
    "## 一次性访问全部参数"
   ]
  },
  {
   "cell_type": "code",
   "execution_count": 17,
   "metadata": {},
   "outputs": [
    {
     "name": "stdout",
     "output_type": "stream",
     "text": [
      "('weight', torch.Size([8, 4])) ('bias', torch.Size([8]))\n",
      "('0.weight', torch.Size([8, 4])) ('0.bias', torch.Size([8])) ('2.weight', torch.Size([1, 8])) ('2.bias', torch.Size([1]))\n"
     ]
    }
   ],
   "source": [
    "#访问第一层\n",
    "print(*[(name,param.shape) for name,param in net[0].named_parameters()])\n",
    "#访问全部的参数\n",
    "print(*[(name,param.shape) for name,param in net.named_parameters()])"
   ]
  },
  {
   "cell_type": "markdown",
   "metadata": {},
   "source": [
    "## 内置初始化参数"
   ]
  },
  {
   "cell_type": "code",
   "execution_count": 28,
   "metadata": {},
   "outputs": [
    {
     "data": {
      "text/plain": [
       "(tensor([[ 0.0013,  0.0038,  0.0100, -0.0030],\n",
       "         [-0.0276,  0.0015,  0.0080, -0.0246],\n",
       "         [ 0.0146,  0.0063,  0.0008,  0.0023],\n",
       "         [-0.0010,  0.0108,  0.0186,  0.0226],\n",
       "         [-0.0007, -0.0010, -0.0082, -0.0126],\n",
       "         [-0.0151,  0.0064,  0.0043, -0.0083],\n",
       "         [-0.0150, -0.0160,  0.0064, -0.0013],\n",
       "         [ 0.0076,  0.0134, -0.0056,  0.0052]]),\n",
       " tensor([0., 0., 0., 0., 0., 0., 0., 0.]))"
      ]
     },
     "execution_count": 28,
     "metadata": {},
     "output_type": "execute_result"
    }
   ],
   "source": [
    "def init_normal(m):\n",
    "    if type(m)==torch.nn.Linear:  #是否是全连接层\n",
    "        torch.nn.init.normal_(m.weight,mean=0,std=0.01),  #初始化偏置w\n",
    "        torch.nn.init.zeros_(m.bias)  #初始化偏置为0\n",
    "\n",
    "net.apply(init_normal)  #函数嵌套\n",
    "net[0].weight.data,net[0].bias.data"
   ]
  }
 ],
 "metadata": {
  "kernelspec": {
   "display_name": "Python 3.7.6 ('base')",
   "language": "python",
   "name": "python3"
  },
  "language_info": {
   "codemirror_mode": {
    "name": "ipython",
    "version": 3
   },
   "file_extension": ".py",
   "mimetype": "text/x-python",
   "name": "python",
   "nbconvert_exporter": "python",
   "pygments_lexer": "ipython3",
   "version": "3.7.6"
  },
  "orig_nbformat": 4,
  "vscode": {
   "interpreter": {
    "hash": "49cb93f377a7abe7414b7b0f21fb3017538004a126cf690fb524202736b7fb92"
   }
  }
 },
 "nbformat": 4,
 "nbformat_minor": 2
}
